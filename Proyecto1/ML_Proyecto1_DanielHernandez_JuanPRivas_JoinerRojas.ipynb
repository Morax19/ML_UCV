{
  "nbformat": 4,
  "nbformat_minor": 0,
  "metadata": {
    "colab": {
      "provenance": [],
      "collapsed_sections": [
        "MHnWhBkJ2jfD",
        "Dw9VLp1AeOD2",
        "aaI37pBtC0_Q",
        "-D8MuOr3don9",
        "jbnKYsUDfRAE",
        "HjBaMq0OfhvQ",
        "OF5NHXsqgKZs",
        "9V4OVdZ0hLXd",
        "l_YsPqcYiZX6",
        "N6HJXMWhidig",
        "-mKVhtSPyjGE",
        "jfm-BeO90WA5",
        "X0TipHZMgR2S",
        "mblyY78ljN3X",
        "ieW1wBfwyp3O",
        "S59fm1vzy3bh",
        "hf6d2LMkz8Xt",
        "NCK-JkGh0k6_",
        "5eCn47DF0uDb"
      ],
      "authorship_tag": "ABX9TyOZcTv9Sb9X8IxOljW72PxG",
      "include_colab_link": true
    },
    "kernelspec": {
      "name": "python3",
      "display_name": "Python 3"
    },
    "language_info": {
      "name": "python"
    }
  },
  "cells": [
    {
      "cell_type": "markdown",
      "metadata": {
        "id": "view-in-github",
        "colab_type": "text"
      },
      "source": [
        "<a href=\"https://colab.research.google.com/github/Morax19/ML_UCV/blob/main/Proyecto1/ML_Proyecto1_DanielHernandez_JuanPRivas_JoinerRojas.ipynb\" target=\"_parent\"><img src=\"https://colab.research.google.com/assets/colab-badge.svg\" alt=\"Open In Colab\"/></a>"
      ]
    },
    {
      "cell_type": "markdown",
      "source": [
        "PROYECTO 1: APRENDIZAJE SUPERVISADO<br>\n",
        "Aprendizaje Automático, Escuela de Computación, Facultad de Ciencias - UCV\n",
        "<br>\n",
        "<br>\n",
        "#Proyecto #1\n",
        "<br>\n",
        "<br>\n",
        "Autores:\n",
        "<br>Juan Pablo Rivas\n",
        "<br>Joiner Rojas\n",
        "<br>Daniel Hernández\n",
        "\n",
        "Fecha: 28 de Febrero 2025"
      ],
      "metadata": {
        "id": "MHnWhBkJ2jfD"
      }
    },
    {
      "cell_type": "markdown",
      "source": [
        "## Parte 1: Entendimiento y análisis de los datos"
      ],
      "metadata": {
        "id": "Dw9VLp1AeOD2"
      }
    },
    {
      "cell_type": "markdown",
      "source": [
        "### Introducción"
      ],
      "metadata": {
        "id": "aaI37pBtC0_Q"
      }
    },
    {
      "cell_type": "markdown",
      "source": [
        "Breve introducción al dataset"
      ],
      "metadata": {
        "id": "vMWskrkHhiX2"
      }
    },
    {
      "cell_type": "markdown",
      "source": [
        "Podríamos hacer los imports de las librerías principales acá explicando qlq con cada una"
      ],
      "metadata": {
        "id": "VUm-LGdGhkp-"
      }
    },
    {
      "cell_type": "code",
      "source": [],
      "metadata": {
        "id": "wffOR_9Bf0NT"
      },
      "execution_count": null,
      "outputs": []
    },
    {
      "cell_type": "markdown",
      "source": [
        "### Planteamiento del problema"
      ],
      "metadata": {
        "id": "-D8MuOr3don9"
      }
    },
    {
      "cell_type": "markdown",
      "source": [
        "Acá podemos hablar un poco del problema que vamos a buscar solucionar con nuestro modelo, me preocupa principalmente que los datasets usualmente se usan para 1 tipo de problema y necesitamos 2 para aprendizaje supervisado y no supervisado."
      ],
      "metadata": {
        "id": "JT2SU65tds8J"
      }
    },
    {
      "cell_type": "markdown",
      "source": [
        "### Análisis exploratorio de los datos"
      ],
      "metadata": {
        "id": "jbnKYsUDfRAE"
      }
    },
    {
      "cell_type": "markdown",
      "source": [
        "Acá podemos hacer la inspección inicial del dataset, ver las dimensiones, valores nulos, que significa cada columna, etc"
      ],
      "metadata": {
        "id": "yQMQmW8kfVhy"
      }
    },
    {
      "cell_type": "code",
      "source": [],
      "metadata": {
        "id": "DDe36O0TfhRO"
      },
      "execution_count": null,
      "outputs": []
    },
    {
      "cell_type": "markdown",
      "source": [
        "### Pre-procesamiento"
      ],
      "metadata": {
        "id": "HjBaMq0OfhvQ"
      }
    },
    {
      "cell_type": "markdown",
      "source": [
        "En esta sección se hará las modificaciones necesarias al dataset mencionadas en el análsis inicial."
      ],
      "metadata": {
        "id": "ChujWAUrf9He"
      }
    },
    {
      "cell_type": "code",
      "source": [],
      "metadata": {
        "id": "mVHffgAkgG4k"
      },
      "execution_count": null,
      "outputs": []
    },
    {
      "cell_type": "markdown",
      "source": [
        "## Parte 2: Modelo de aprendizaje supervisado"
      ],
      "metadata": {
        "id": "OF5NHXsqgKZs"
      }
    },
    {
      "cell_type": "markdown",
      "source": [
        "Pequeña explicación de como el modelo que usaremos va a solucionar uno de los problemas planteados"
      ],
      "metadata": {
        "id": "KKe7kHTzgW3O"
      }
    },
    {
      "cell_type": "markdown",
      "source": [
        "### Comparativa entre modelos propuestos"
      ],
      "metadata": {
        "id": "9V4OVdZ0hLXd"
      }
    },
    {
      "cell_type": "markdown",
      "source": [
        "#### Modelo 1"
      ],
      "metadata": {
        "id": "l_YsPqcYiZX6"
      }
    },
    {
      "cell_type": "markdown",
      "source": [
        "Habladera del modelo(?"
      ],
      "metadata": {
        "id": "6MRvwl0JwIAq"
      }
    },
    {
      "cell_type": "markdown",
      "source": [
        "1. Imports"
      ],
      "metadata": {
        "id": "VBPdktMmwea-"
      }
    },
    {
      "cell_type": "code",
      "source": [],
      "metadata": {
        "id": "LL5HRduzx9iA"
      },
      "execution_count": null,
      "outputs": []
    },
    {
      "cell_type": "markdown",
      "source": [
        "2. Metricas a usar para medir el rendimiento"
      ],
      "metadata": {
        "id": "qj5gtkyywhk4"
      }
    },
    {
      "cell_type": "markdown",
      "source": [
        "Breve explicacion de las metricas y justificacion de su uso."
      ],
      "metadata": {
        "id": "Ki1zEVS8wseD"
      }
    },
    {
      "cell_type": "code",
      "source": [],
      "metadata": {
        "id": "Krt5mX2Zx8Ng"
      },
      "execution_count": null,
      "outputs": []
    },
    {
      "cell_type": "markdown",
      "source": [
        "3. Calculo de hiperparametros"
      ],
      "metadata": {
        "id": "i45zqmNvwn8E"
      }
    },
    {
      "cell_type": "markdown",
      "source": [
        "Explicacion de los hiperparametros del modelo"
      ],
      "metadata": {
        "id": "e_u6W9SPyVsw"
      }
    },
    {
      "cell_type": "code",
      "source": [],
      "metadata": {
        "id": "A5Fo28D-wrqS"
      },
      "execution_count": null,
      "outputs": []
    },
    {
      "cell_type": "markdown",
      "source": [
        "4. Resultados obtenidos"
      ],
      "metadata": {
        "id": "BzWAsxKKxHhe"
      }
    },
    {
      "cell_type": "markdown",
      "source": [
        "Aca podemos mostrar los resultados de cada modelo, con un reporte para cada uno, matrices de confusion, etc"
      ],
      "metadata": {
        "id": "G-1-PJrzxK-7"
      }
    },
    {
      "cell_type": "code",
      "source": [],
      "metadata": {
        "id": "d_5o_0Z9xTQ9"
      },
      "execution_count": null,
      "outputs": []
    },
    {
      "cell_type": "markdown",
      "source": [
        "#### Modelo 2"
      ],
      "metadata": {
        "id": "N6HJXMWhidig"
      }
    },
    {
      "cell_type": "markdown",
      "source": [
        "Habladera del modelo(?"
      ],
      "metadata": {
        "id": "oNidcn1WyJng"
      }
    },
    {
      "cell_type": "markdown",
      "source": [
        "1. Imports"
      ],
      "metadata": {
        "id": "cR6iRhWTyJnh"
      }
    },
    {
      "cell_type": "code",
      "source": [],
      "metadata": {
        "id": "ZBod4G-RyJni"
      },
      "execution_count": null,
      "outputs": []
    },
    {
      "cell_type": "markdown",
      "source": [
        "2. Metricas a usar para medir el rendimiento"
      ],
      "metadata": {
        "id": "X4zDGX4pyJni"
      }
    },
    {
      "cell_type": "markdown",
      "source": [
        "Breve explicacion de las metricas y justificacion de su uso."
      ],
      "metadata": {
        "id": "IKVFtpOHyJnj"
      }
    },
    {
      "cell_type": "code",
      "source": [],
      "metadata": {
        "id": "McgF9wtkyJnj"
      },
      "execution_count": null,
      "outputs": []
    },
    {
      "cell_type": "markdown",
      "source": [
        "3. Calculo de hiperparametros"
      ],
      "metadata": {
        "id": "t3mN8WlWyJnk"
      }
    },
    {
      "cell_type": "markdown",
      "source": [
        "Explicacion de los hiperparametros del modelo"
      ],
      "metadata": {
        "id": "SznnPdCnybKP"
      }
    },
    {
      "cell_type": "code",
      "source": [],
      "metadata": {
        "id": "vrlUyNhGyL2C"
      },
      "execution_count": null,
      "outputs": []
    },
    {
      "cell_type": "markdown",
      "source": [
        "4. Resultados obtenidos"
      ],
      "metadata": {
        "id": "BGbO0o7QyQ9M"
      }
    },
    {
      "cell_type": "markdown",
      "source": [
        "Aca podemos mostrar los resultados de cada modelo, con un reporte para cada uno, matrices de confusion, etc"
      ],
      "metadata": {
        "id": "jv2gT1V6yQ9N"
      }
    },
    {
      "cell_type": "code",
      "source": [],
      "metadata": {
        "id": "B5DdI-2XyQ9O"
      },
      "execution_count": null,
      "outputs": []
    },
    {
      "cell_type": "markdown",
      "source": [
        "#### Modelo 3"
      ],
      "metadata": {
        "id": "-mKVhtSPyjGE"
      }
    },
    {
      "cell_type": "markdown",
      "source": [
        "Habladera del modelo(?"
      ],
      "metadata": {
        "id": "C33FtUkjyjGF"
      }
    },
    {
      "cell_type": "markdown",
      "source": [
        "1. Imports"
      ],
      "metadata": {
        "id": "Owkbv4JgyjGF"
      }
    },
    {
      "cell_type": "code",
      "source": [],
      "metadata": {
        "id": "460bu9pYyjGG"
      },
      "execution_count": null,
      "outputs": []
    },
    {
      "cell_type": "markdown",
      "source": [
        "2. Metricas a usar para medir el rendimiento"
      ],
      "metadata": {
        "id": "Z533pdXTyjGH"
      }
    },
    {
      "cell_type": "markdown",
      "source": [
        "Breve explicacion de las metricas y justificacion de su uso."
      ],
      "metadata": {
        "id": "MwzuMP5DyjGI"
      }
    },
    {
      "cell_type": "code",
      "source": [],
      "metadata": {
        "id": "u2CX_zapyjGI"
      },
      "execution_count": null,
      "outputs": []
    },
    {
      "cell_type": "markdown",
      "source": [
        "3. Calculo de hiperparametros"
      ],
      "metadata": {
        "id": "0HoPKQEpyjGJ"
      }
    },
    {
      "cell_type": "markdown",
      "source": [
        "Explicacion de los hiperparametros del modelo"
      ],
      "metadata": {
        "id": "foOO9_bIyjGJ"
      }
    },
    {
      "cell_type": "code",
      "source": [],
      "metadata": {
        "id": "kvbsJ3VByjGK"
      },
      "execution_count": null,
      "outputs": []
    },
    {
      "cell_type": "markdown",
      "source": [
        "4. Resultados obtenidos"
      ],
      "metadata": {
        "id": "eXcFXz4xyjGL"
      }
    },
    {
      "cell_type": "markdown",
      "source": [
        "Aca podemos mostrar los resultados de cada modelo, con un reporte para cada uno, matrices de confusion, etc"
      ],
      "metadata": {
        "id": "bSpVv-u-yjGL"
      }
    },
    {
      "cell_type": "code",
      "source": [],
      "metadata": {
        "id": "FD9RmyulyjGM"
      },
      "execution_count": null,
      "outputs": []
    },
    {
      "cell_type": "markdown",
      "source": [
        "### Conclusiones"
      ],
      "metadata": {
        "id": "jfm-BeO90WA5"
      }
    },
    {
      "cell_type": "markdown",
      "source": [
        "Habladera de que modelo vamos a elegir al final y justificar porque, ademas de agregar la parte de almacenar el modelo"
      ],
      "metadata": {
        "id": "gc2zPTWQ0Yaw"
      }
    },
    {
      "cell_type": "code",
      "source": [],
      "metadata": {
        "id": "7AVRs3-p1mXo"
      },
      "execution_count": null,
      "outputs": []
    },
    {
      "cell_type": "markdown",
      "source": [
        "## Parte 3: Modelo de aprendizaje no supervisado"
      ],
      "metadata": {
        "id": "X0TipHZMgR2S"
      }
    },
    {
      "cell_type": "markdown",
      "source": [
        "Same as above, explicación de como el modelo va a solucionar un problema planteado"
      ],
      "metadata": {
        "id": "OZse8tTnjaS-"
      }
    },
    {
      "cell_type": "markdown",
      "source": [
        "### Comparativa entre modelos propuestos"
      ],
      "metadata": {
        "id": "mblyY78ljN3X"
      }
    },
    {
      "cell_type": "markdown",
      "source": [
        "#### Modelo 1"
      ],
      "metadata": {
        "id": "ieW1wBfwyp3O"
      }
    },
    {
      "cell_type": "markdown",
      "source": [
        "Habladera del modelo(?"
      ],
      "metadata": {
        "id": "sb9LCvM_yp3P"
      }
    },
    {
      "cell_type": "markdown",
      "source": [
        "1. Imports"
      ],
      "metadata": {
        "id": "C8JaW_Hhyp3P"
      }
    },
    {
      "cell_type": "code",
      "source": [],
      "metadata": {
        "id": "pz_CcFQ3yp3Q"
      },
      "execution_count": null,
      "outputs": []
    },
    {
      "cell_type": "markdown",
      "source": [
        "2. Metricas a usar para medir el rendimiento"
      ],
      "metadata": {
        "id": "pShpiCslyp3Q"
      }
    },
    {
      "cell_type": "markdown",
      "source": [
        "Breve explicacion de las metricas y justificacion de su uso."
      ],
      "metadata": {
        "id": "80cU7t4oyp3R"
      }
    },
    {
      "cell_type": "code",
      "source": [],
      "metadata": {
        "id": "ujijuZ_myp3R"
      },
      "execution_count": null,
      "outputs": []
    },
    {
      "cell_type": "markdown",
      "source": [
        "3. Calculo de hiperparametros"
      ],
      "metadata": {
        "id": "_8iYMgv0yp3S"
      }
    },
    {
      "cell_type": "markdown",
      "source": [
        "Explicacion de los hiperparametros del modelo"
      ],
      "metadata": {
        "id": "EeBM-oifyp3S"
      }
    },
    {
      "cell_type": "code",
      "source": [],
      "metadata": {
        "id": "OyglfBzgyp3T"
      },
      "execution_count": null,
      "outputs": []
    },
    {
      "cell_type": "markdown",
      "source": [
        "4. Resultados obtenidos"
      ],
      "metadata": {
        "id": "Gx82yKf6yp3T"
      }
    },
    {
      "cell_type": "markdown",
      "source": [
        "Aca podemos mostrar los resultados de cada modelo, con un reporte para cada uno, matrices de confusion, etc"
      ],
      "metadata": {
        "id": "tFP61hWuyp3U"
      }
    },
    {
      "cell_type": "code",
      "source": [],
      "metadata": {
        "id": "pF1RgHj-yp3U"
      },
      "execution_count": null,
      "outputs": []
    },
    {
      "cell_type": "markdown",
      "source": [
        "#### Modelo 2"
      ],
      "metadata": {
        "id": "S59fm1vzy3bh"
      }
    },
    {
      "cell_type": "markdown",
      "source": [
        "Habladera del modelo(?"
      ],
      "metadata": {
        "id": "iV7aRZKGy3bi"
      }
    },
    {
      "cell_type": "markdown",
      "source": [
        "1. Imports"
      ],
      "metadata": {
        "id": "HXKFxfjUy3bj"
      }
    },
    {
      "cell_type": "code",
      "source": [],
      "metadata": {
        "id": "LvlqZbpFy3bk"
      },
      "execution_count": null,
      "outputs": []
    },
    {
      "cell_type": "markdown",
      "source": [
        "2. Metricas a usar para medir el rendimiento"
      ],
      "metadata": {
        "id": "THi5soECy3bl"
      }
    },
    {
      "cell_type": "markdown",
      "source": [
        "Breve explicacion de las metricas y justificacion de su uso."
      ],
      "metadata": {
        "id": "Kcuhty2Oy3bm"
      }
    },
    {
      "cell_type": "code",
      "source": [],
      "metadata": {
        "id": "h4CIxAuJy3bn"
      },
      "execution_count": null,
      "outputs": []
    },
    {
      "cell_type": "markdown",
      "source": [
        "3. Calculo de hiperparametros"
      ],
      "metadata": {
        "id": "vPpchIpgy3bo"
      }
    },
    {
      "cell_type": "markdown",
      "source": [
        "Explicacion de los hiperparametros del modelo"
      ],
      "metadata": {
        "id": "m0y2S6WQy3bo"
      }
    },
    {
      "cell_type": "code",
      "source": [],
      "metadata": {
        "id": "q12FJ4cjy3bp"
      },
      "execution_count": null,
      "outputs": []
    },
    {
      "cell_type": "markdown",
      "source": [
        "4. Resultados obtenidos"
      ],
      "metadata": {
        "id": "UPC2HVSIy3bq"
      }
    },
    {
      "cell_type": "markdown",
      "source": [
        "Aca podemos mostrar los resultados de cada modelo, con un reporte para cada uno, matrices de confusion, etc"
      ],
      "metadata": {
        "id": "wZtPdp4Fy3br"
      }
    },
    {
      "cell_type": "code",
      "source": [],
      "metadata": {
        "id": "jVrs8IgIy3br"
      },
      "execution_count": null,
      "outputs": []
    },
    {
      "cell_type": "markdown",
      "source": [
        "#### Modelo 3"
      ],
      "metadata": {
        "id": "hf6d2LMkz8Xt"
      }
    },
    {
      "cell_type": "markdown",
      "source": [
        "Habladera del modelo(?"
      ],
      "metadata": {
        "id": "KfDBM3qPz8Xu"
      }
    },
    {
      "cell_type": "markdown",
      "source": [
        "1. Imports"
      ],
      "metadata": {
        "id": "SMV9-6SBz8Xu"
      }
    },
    {
      "cell_type": "code",
      "source": [],
      "metadata": {
        "id": "riSKi4CJz8Xv"
      },
      "execution_count": null,
      "outputs": []
    },
    {
      "cell_type": "markdown",
      "source": [
        "2. Metricas a usar para medir el rendimiento"
      ],
      "metadata": {
        "id": "zHgxxR5Pz8Xw"
      }
    },
    {
      "cell_type": "markdown",
      "source": [
        "Breve explicacion de las metricas y justificacion de su uso."
      ],
      "metadata": {
        "id": "UNf_-vz8z8Xx"
      }
    },
    {
      "cell_type": "code",
      "source": [],
      "metadata": {
        "id": "Ym_Ii2toz8Xx"
      },
      "execution_count": null,
      "outputs": []
    },
    {
      "cell_type": "markdown",
      "source": [
        "3. Calculo de hiperparametros"
      ],
      "metadata": {
        "id": "BjuIIAwFz8Xy"
      }
    },
    {
      "cell_type": "markdown",
      "source": [
        "Explicacion de los hiperparametros del modelo"
      ],
      "metadata": {
        "id": "_VoMdNNLz8Xy"
      }
    },
    {
      "cell_type": "code",
      "source": [],
      "metadata": {
        "id": "kWPTr2Lfz8Xz"
      },
      "execution_count": null,
      "outputs": []
    },
    {
      "cell_type": "markdown",
      "source": [
        "4. Resultados obtenidos"
      ],
      "metadata": {
        "id": "KyVTYAKWz8X0"
      }
    },
    {
      "cell_type": "markdown",
      "source": [
        "Aca podemos mostrar los resultados de cada modelo, con un reporte para cada uno, matrices de confusion, etc"
      ],
      "metadata": {
        "id": "q3-LHTIVz8X0"
      }
    },
    {
      "cell_type": "code",
      "source": [],
      "metadata": {
        "id": "22eQcp9Pz8X1"
      },
      "execution_count": null,
      "outputs": []
    },
    {
      "cell_type": "markdown",
      "source": [
        "### Conclusiones"
      ],
      "metadata": {
        "id": "NCK-JkGh0k6_"
      }
    },
    {
      "cell_type": "markdown",
      "source": [
        "Habladera de que modelo vamos a elegir al final y justificar porque, ademas de agregar la seccion correspondiente al almacenamiento del modelo"
      ],
      "metadata": {
        "id": "Rv8pHqoF0k7A"
      }
    },
    {
      "cell_type": "code",
      "source": [],
      "metadata": {
        "id": "LXivXT6B2azh"
      },
      "execution_count": null,
      "outputs": []
    },
    {
      "cell_type": "markdown",
      "source": [
        "## Parte 4: Creacion de la API(?"
      ],
      "metadata": {
        "id": "5eCn47DF0uDb"
      }
    },
    {
      "cell_type": "markdown",
      "source": [
        "No se si esto deba ser parte del notebook pero aca lo agrego"
      ],
      "metadata": {
        "id": "LLnLjre70z1y"
      }
    }
  ]
}