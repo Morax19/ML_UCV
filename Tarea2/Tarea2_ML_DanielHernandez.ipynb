{
  "cells": [
    {
      "cell_type": "markdown",
      "metadata": {
        "id": "view-in-github",
        "colab_type": "text"
      },
      "source": [
        "<a href=\"https://colab.research.google.com/github/Morax19/ML_UCV/blob/main/Tarea2/Tarea2_ML_DanielHernandez.ipynb\" target=\"_parent\"><img src=\"https://colab.research.google.com/assets/colab-badge.svg\" alt=\"Open In Colab\"/></a>"
      ]
    },
    {
      "cell_type": "markdown",
      "metadata": {
        "id": "koOsihG3Iv_p"
      },
      "source": [
        "\n",
        "\n",
        "TAREA 2: APRENDIZAJE SUPERVISADO<br>\n",
        "Aprendizaje Automático, Escuela de Computación, Facultad de Ciencias - UCV\n",
        "<br>\n",
        "<br>\n",
        "#Parte 1: Reconocimiento de Dígitos\n",
        "<br>\n",
        "<br>\n",
        "Autor: Daniel Hernández<br>\n",
        "Fecha: 14 de Febrero 2025\n",
        "\n"
      ]
    },
    {
      "cell_type": "markdown",
      "metadata": {
        "id": "BmTu2kJm9U4A"
      },
      "source": [
        "## Overview\n",
        "Breve introducción al notebook\n",
        "\n",
        "---"
      ]
    },
    {
      "cell_type": "markdown",
      "source": [
        "### Setup enviroment"
      ],
      "metadata": {
        "id": "xyib2Fg63_U1"
      }
    },
    {
      "cell_type": "markdown",
      "metadata": {
        "id": "wvt9q9FqG9Rw"
      },
      "source": [
        "Librerías necesarias a lo largo del notebook:"
      ]
    },
    {
      "cell_type": "code",
      "execution_count": 6,
      "metadata": {
        "id": "jQpDWta8-djY"
      },
      "outputs": [],
      "source": [
        "SEED = 27795163\n",
        "\n",
        "import numpy as np\n",
        "import seaborn as sns\n",
        "import matplotlib.pyplot as plt\n",
        "\n",
        "from keras.datasets import mnist\n",
        "from sklearn.metrics import accuracy_score, confusion_matrix\n",
        "from sklearn.model_selection import cross_validate, train_test_split, GridSearchCV"
      ]
    },
    {
      "cell_type": "markdown",
      "source": [
        "### Pre-procesamiento\n"
      ],
      "metadata": {
        "id": "T4LV-O5S2-KN"
      }
    },
    {
      "cell_type": "markdown",
      "metadata": {
        "id": "e1bSiAG1Gdbf"
      },
      "source": [
        "El conjunto de datos con el que vamos a trabajar a lo largo de este notebook es [MNIST](https://docs.ultralytics.com/es/datasets/classify/mnist/). *Definición de que es MNIST.*"
      ]
    },
    {
      "cell_type": "code",
      "execution_count": 7,
      "metadata": {
        "id": "AfNd-TGIGz9o"
      },
      "outputs": [],
      "source": [
        "(X_train, y_train), (X_test, y_test) = mnist.load_data()"
      ]
    },
    {
      "cell_type": "markdown",
      "metadata": {
        "id": "0ygWCk-iIv_7"
      },
      "source": [
        "Se formatean y se separan los datos de la siguiente forma:\n",
        "\n",
        "\n",
        "*   X: Contiene los valores de los píxeles de las imágenes\n",
        "*   y: Contiene las etiquetas asociadas a las imágenes\n",
        "\n"
      ]
    },
    {
      "cell_type": "code",
      "execution_count": 8,
      "metadata": {
        "id": "49zDVvu_Iv_7"
      },
      "outputs": [],
      "source": [
        "#Valores de los pixeles en un arreglo NumPy\n",
        "X = np.concatenate((X_train, X_test), axis = 0)\n",
        "\n",
        "#Etiquetas que identifican los objetivos de las imágenes\n",
        "y = np.concatenate((y_train, y_test), axis = 0)"
      ]
    },
    {
      "cell_type": "markdown",
      "metadata": {
        "id": "-Bp9kYwfIv_8"
      },
      "source": [
        "Luego se separan los datos en grupos de entrenamiento y prueba, para esto se hizo uso de una relación 70 - 30 respectivamente. Posteriormente se transforma la representación de los datos en X en imágenes de dimensión 28x28 píxeles y se normalizan sus valores."
      ]
    },
    {
      "cell_type": "code",
      "execution_count": 9,
      "metadata": {
        "colab": {
          "base_uri": "https://localhost:8080/"
        },
        "id": "kB81UUvXIv_9",
        "outputId": "a2265751-2afe-4182-97c4-3342d61cc4aa"
      },
      "outputs": [
        {
          "output_type": "stream",
          "name": "stdout",
          "text": [
            "Cantidad de imágenes para entrenamiento: 49000\n",
            "Cantidad de imágenes de prueba: 21000\n"
          ]
        }
      ],
      "source": [
        "#Se separan los datos de entrenamiento y prueba (70 entrenamiento - 30 prueba)\n",
        "X_train, X_test, y_train, y_test = train_test_split(X, y, test_size = 0.3, random_state = SEED)\n",
        "\n",
        "#Se formatean los valores de X\n",
        "X_train = X_train.reshape(X_train.shape[0], 28 * 28)\n",
        "X_test = X_test.reshape(X_test.shape[0], 28 * 28)\n",
        "\n",
        "#Se normalizan los valores de las imágenes\n",
        "X_train = X_train / 255.0\n",
        "X_test = X_test / 255.0\n",
        "\n",
        "#Finalmente, podemos tener una vista previa de los datos con los que vamos a trabajar\n",
        "print(f\"Cantidad de imágenes para entrenamiento: {X_train.shape[0]}\")\n",
        "print(f\"Cantidad de imágenes de prueba: {X_test.shape[0]}\")"
      ]
    },
    {
      "cell_type": "markdown",
      "metadata": {
        "id": "nrwp8I6w7Mj7"
      },
      "source": [
        "##   Regresión Logística\n",
        "\n"
      ]
    },
    {
      "cell_type": "markdown",
      "metadata": {
        "id": "ej7T86wEThUl"
      },
      "source": [
        "Breve explicacion de que es [Regresión Logística](https://scikit-learn.org/stable/modules/generated/sklearn.linear_model.LogisticRegression.html) y porque se utiliza para esta tarea"
      ]
    },
    {
      "cell_type": "markdown",
      "metadata": {
        "id": "dvEUTYahIv_x"
      },
      "source": [
        "### Sección 1, import del modelo."
      ]
    },
    {
      "cell_type": "markdown",
      "metadata": {
        "id": "FT2E9_XJThUn"
      },
      "source": [
        "Se importa el modelo desde SciKitLearn"
      ]
    },
    {
      "cell_type": "code",
      "execution_count": 10,
      "metadata": {
        "id": "VNGhPBaUIv_z"
      },
      "outputs": [],
      "source": [
        "from sklearn.linear_model import LogisticRegression"
      ]
    },
    {
      "cell_type": "markdown",
      "metadata": {
        "id": "UfWYhVDvIv__"
      },
      "source": [
        "### Sección 2, selección de hiperparámetros del modelo, scores y entrenamiento"
      ]
    },
    {
      "cell_type": "markdown",
      "metadata": {
        "id": "C82V1MW-Lgnu"
      },
      "source": [
        "Breve explicación acerca de los hiperparámetros del modelo\n",
        "* C:\n",
        "* penalty:\n",
        "* solver:"
      ]
    },
    {
      "cell_type": "code",
      "source": [
        "param_grid_LR = {\n",
        "    'C': [0.01, 0.1, 1, 10],\n",
        "    'penalty': ['l1'],\n",
        "    'solver': ['liblinear', 'saga']\n",
        "}"
      ],
      "metadata": {
        "id": "zYlXzVOuBYeM"
      },
      "execution_count": 11,
      "outputs": []
    },
    {
      "cell_type": "markdown",
      "source": [
        "Para tener una idea de como se comporta el modelo frente a datos desconocidos, haremos uso de validación cruzada y se almacenarán las siguientes métricas:\n",
        "*   Accuracy: Explicacion de que es\n",
        "*   F1 Score: Same as above"
      ],
      "metadata": {
        "id": "yS6HtI5qBchG"
      }
    },
    {
      "cell_type": "code",
      "source": [
        "#Métricas a utilizar\n",
        "scores = ['accuracy', 'f1_weighted']"
      ],
      "metadata": {
        "id": "51biiN7lbDRN"
      },
      "execution_count": 12,
      "outputs": []
    },
    {
      "cell_type": "markdown",
      "source": [
        "Se hace uso de GridSearchCV para estimación de parámetros y calculo de scores en CV"
      ],
      "metadata": {
        "id": "cyrBmv6kBi6Z"
      }
    },
    {
      "cell_type": "code",
      "source": [
        "grid_search_LR = GridSearchCV(LogisticRegression(max_iter = 1000), param_grid_LR, cv = 5, scoring = scores, refit='f1_weighted')\n",
        "\n",
        "#Do not disturb... Machine is Learning\n",
        "grid_search_LR.fit(X_train, y_train)"
      ],
      "metadata": {
        "id": "XwxNA68T7_UW"
      },
      "execution_count": null,
      "outputs": []
    },
    {
      "cell_type": "markdown",
      "source": [
        "Resultados obtenidos:"
      ],
      "metadata": {
        "id": "FPLArrwLArXM"
      }
    },
    {
      "cell_type": "code",
      "source": [
        "print(f\"Resultados obtenidos:\\n\")\n",
        "print(f\"Hiperparámetros encontrados: {grid_search_LR.best_params_}\")\n",
        "print(f\"F1 Score (weighted): {grid_search_LR.cv_results_['mean_test_f1_weighted'].mean() * 100:.2f}%\")\n",
        "print(f\"Accuracy: {grid_search_LR.cv_results_['mean_test_accuracy'].mean() * 100:.2f}%\")"
      ],
      "metadata": {
        "colab": {
          "base_uri": "https://localhost:8080/",
          "height": 228
        },
        "id": "1tF0ZarDA7aj",
        "outputId": "d11862f3-f1a5-43f7-dba7-be4120ace88a"
      },
      "execution_count": 25,
      "outputs": [
        {
          "output_type": "stream",
          "name": "stdout",
          "text": [
            "Resultados obtenidos:\n",
            "\n"
          ]
        },
        {
          "output_type": "error",
          "ename": "AttributeError",
          "evalue": "'GridSearchCV' object has no attribute 'best_params_'",
          "traceback": [
            "\u001b[0;31m---------------------------------------------------------------------------\u001b[0m",
            "\u001b[0;31mAttributeError\u001b[0m                            Traceback (most recent call last)",
            "\u001b[0;32m<ipython-input-25-a2eaa761d89a>\u001b[0m in \u001b[0;36m<cell line: 0>\u001b[0;34m()\u001b[0m\n\u001b[1;32m      1\u001b[0m \u001b[0mprint\u001b[0m\u001b[0;34m(\u001b[0m\u001b[0;34mf\"Resultados obtenidos:\\n\"\u001b[0m\u001b[0;34m)\u001b[0m\u001b[0;34m\u001b[0m\u001b[0;34m\u001b[0m\u001b[0m\n\u001b[0;32m----> 2\u001b[0;31m \u001b[0mprint\u001b[0m\u001b[0;34m(\u001b[0m\u001b[0;34mf\"Hiperparámetros encontrados: {grid_search_LR.best_params_}\"\u001b[0m\u001b[0;34m)\u001b[0m\u001b[0;34m\u001b[0m\u001b[0;34m\u001b[0m\u001b[0m\n\u001b[0m\u001b[1;32m      3\u001b[0m \u001b[0mprint\u001b[0m\u001b[0;34m(\u001b[0m\u001b[0;34mf\"F1 Score (weighted): {grid_search_LR.cv_results_['mean_test_f1_weighted'].mean() * 100:.2f}%\"\u001b[0m\u001b[0;34m)\u001b[0m\u001b[0;34m\u001b[0m\u001b[0;34m\u001b[0m\u001b[0m\n\u001b[1;32m      4\u001b[0m \u001b[0mprint\u001b[0m\u001b[0;34m(\u001b[0m\u001b[0;34mf\"Accuracy: {grid_search_LR.cv_results_['mean_test_accuracy'].mean() * 100:.2f}%\"\u001b[0m\u001b[0;34m)\u001b[0m\u001b[0;34m\u001b[0m\u001b[0;34m\u001b[0m\u001b[0m\n",
            "\u001b[0;31mAttributeError\u001b[0m: 'GridSearchCV' object has no attribute 'best_params_'"
          ]
        }
      ]
    },
    {
      "cell_type": "markdown",
      "metadata": {
        "id": "pOlHUlbkX4bu"
      },
      "source": [
        "### Sección 3, pruebas del modelo"
      ]
    },
    {
      "cell_type": "markdown",
      "metadata": {
        "id": "QioYTPnFZaBz"
      },
      "source": [
        "Finalmente, se procede a entrenar el modelo usando el conjunto de datos definido anteriormente para esta tarea."
      ]
    },
    {
      "cell_type": "code",
      "execution_count": 9,
      "metadata": {
        "colab": {
          "base_uri": "https://localhost:8080/",
          "height": 80
        },
        "id": "1sYm3Uw8WYRz",
        "outputId": "99225c12-701f-4a6d-dceb-ae18e9d7cc59"
      },
      "outputs": [
        {
          "output_type": "execute_result",
          "data": {
            "text/plain": [
              "LogisticRegression(C=0.5, max_iter=1000)"
            ],
            "text/html": [
              "<style>#sk-container-id-1 {\n",
              "  /* Definition of color scheme common for light and dark mode */\n",
              "  --sklearn-color-text: #000;\n",
              "  --sklearn-color-text-muted: #666;\n",
              "  --sklearn-color-line: gray;\n",
              "  /* Definition of color scheme for unfitted estimators */\n",
              "  --sklearn-color-unfitted-level-0: #fff5e6;\n",
              "  --sklearn-color-unfitted-level-1: #f6e4d2;\n",
              "  --sklearn-color-unfitted-level-2: #ffe0b3;\n",
              "  --sklearn-color-unfitted-level-3: chocolate;\n",
              "  /* Definition of color scheme for fitted estimators */\n",
              "  --sklearn-color-fitted-level-0: #f0f8ff;\n",
              "  --sklearn-color-fitted-level-1: #d4ebff;\n",
              "  --sklearn-color-fitted-level-2: #b3dbfd;\n",
              "  --sklearn-color-fitted-level-3: cornflowerblue;\n",
              "\n",
              "  /* Specific color for light theme */\n",
              "  --sklearn-color-text-on-default-background: var(--sg-text-color, var(--theme-code-foreground, var(--jp-content-font-color1, black)));\n",
              "  --sklearn-color-background: var(--sg-background-color, var(--theme-background, var(--jp-layout-color0, white)));\n",
              "  --sklearn-color-border-box: var(--sg-text-color, var(--theme-code-foreground, var(--jp-content-font-color1, black)));\n",
              "  --sklearn-color-icon: #696969;\n",
              "\n",
              "  @media (prefers-color-scheme: dark) {\n",
              "    /* Redefinition of color scheme for dark theme */\n",
              "    --sklearn-color-text-on-default-background: var(--sg-text-color, var(--theme-code-foreground, var(--jp-content-font-color1, white)));\n",
              "    --sklearn-color-background: var(--sg-background-color, var(--theme-background, var(--jp-layout-color0, #111)));\n",
              "    --sklearn-color-border-box: var(--sg-text-color, var(--theme-code-foreground, var(--jp-content-font-color1, white)));\n",
              "    --sklearn-color-icon: #878787;\n",
              "  }\n",
              "}\n",
              "\n",
              "#sk-container-id-1 {\n",
              "  color: var(--sklearn-color-text);\n",
              "}\n",
              "\n",
              "#sk-container-id-1 pre {\n",
              "  padding: 0;\n",
              "}\n",
              "\n",
              "#sk-container-id-1 input.sk-hidden--visually {\n",
              "  border: 0;\n",
              "  clip: rect(1px 1px 1px 1px);\n",
              "  clip: rect(1px, 1px, 1px, 1px);\n",
              "  height: 1px;\n",
              "  margin: -1px;\n",
              "  overflow: hidden;\n",
              "  padding: 0;\n",
              "  position: absolute;\n",
              "  width: 1px;\n",
              "}\n",
              "\n",
              "#sk-container-id-1 div.sk-dashed-wrapped {\n",
              "  border: 1px dashed var(--sklearn-color-line);\n",
              "  margin: 0 0.4em 0.5em 0.4em;\n",
              "  box-sizing: border-box;\n",
              "  padding-bottom: 0.4em;\n",
              "  background-color: var(--sklearn-color-background);\n",
              "}\n",
              "\n",
              "#sk-container-id-1 div.sk-container {\n",
              "  /* jupyter's `normalize.less` sets `[hidden] { display: none; }`\n",
              "     but bootstrap.min.css set `[hidden] { display: none !important; }`\n",
              "     so we also need the `!important` here to be able to override the\n",
              "     default hidden behavior on the sphinx rendered scikit-learn.org.\n",
              "     See: https://github.com/scikit-learn/scikit-learn/issues/21755 */\n",
              "  display: inline-block !important;\n",
              "  position: relative;\n",
              "}\n",
              "\n",
              "#sk-container-id-1 div.sk-text-repr-fallback {\n",
              "  display: none;\n",
              "}\n",
              "\n",
              "div.sk-parallel-item,\n",
              "div.sk-serial,\n",
              "div.sk-item {\n",
              "  /* draw centered vertical line to link estimators */\n",
              "  background-image: linear-gradient(var(--sklearn-color-text-on-default-background), var(--sklearn-color-text-on-default-background));\n",
              "  background-size: 2px 100%;\n",
              "  background-repeat: no-repeat;\n",
              "  background-position: center center;\n",
              "}\n",
              "\n",
              "/* Parallel-specific style estimator block */\n",
              "\n",
              "#sk-container-id-1 div.sk-parallel-item::after {\n",
              "  content: \"\";\n",
              "  width: 100%;\n",
              "  border-bottom: 2px solid var(--sklearn-color-text-on-default-background);\n",
              "  flex-grow: 1;\n",
              "}\n",
              "\n",
              "#sk-container-id-1 div.sk-parallel {\n",
              "  display: flex;\n",
              "  align-items: stretch;\n",
              "  justify-content: center;\n",
              "  background-color: var(--sklearn-color-background);\n",
              "  position: relative;\n",
              "}\n",
              "\n",
              "#sk-container-id-1 div.sk-parallel-item {\n",
              "  display: flex;\n",
              "  flex-direction: column;\n",
              "}\n",
              "\n",
              "#sk-container-id-1 div.sk-parallel-item:first-child::after {\n",
              "  align-self: flex-end;\n",
              "  width: 50%;\n",
              "}\n",
              "\n",
              "#sk-container-id-1 div.sk-parallel-item:last-child::after {\n",
              "  align-self: flex-start;\n",
              "  width: 50%;\n",
              "}\n",
              "\n",
              "#sk-container-id-1 div.sk-parallel-item:only-child::after {\n",
              "  width: 0;\n",
              "}\n",
              "\n",
              "/* Serial-specific style estimator block */\n",
              "\n",
              "#sk-container-id-1 div.sk-serial {\n",
              "  display: flex;\n",
              "  flex-direction: column;\n",
              "  align-items: center;\n",
              "  background-color: var(--sklearn-color-background);\n",
              "  padding-right: 1em;\n",
              "  padding-left: 1em;\n",
              "}\n",
              "\n",
              "\n",
              "/* Toggleable style: style used for estimator/Pipeline/ColumnTransformer box that is\n",
              "clickable and can be expanded/collapsed.\n",
              "- Pipeline and ColumnTransformer use this feature and define the default style\n",
              "- Estimators will overwrite some part of the style using the `sk-estimator` class\n",
              "*/\n",
              "\n",
              "/* Pipeline and ColumnTransformer style (default) */\n",
              "\n",
              "#sk-container-id-1 div.sk-toggleable {\n",
              "  /* Default theme specific background. It is overwritten whether we have a\n",
              "  specific estimator or a Pipeline/ColumnTransformer */\n",
              "  background-color: var(--sklearn-color-background);\n",
              "}\n",
              "\n",
              "/* Toggleable label */\n",
              "#sk-container-id-1 label.sk-toggleable__label {\n",
              "  cursor: pointer;\n",
              "  display: flex;\n",
              "  width: 100%;\n",
              "  margin-bottom: 0;\n",
              "  padding: 0.5em;\n",
              "  box-sizing: border-box;\n",
              "  text-align: center;\n",
              "  align-items: start;\n",
              "  justify-content: space-between;\n",
              "  gap: 0.5em;\n",
              "}\n",
              "\n",
              "#sk-container-id-1 label.sk-toggleable__label .caption {\n",
              "  font-size: 0.6rem;\n",
              "  font-weight: lighter;\n",
              "  color: var(--sklearn-color-text-muted);\n",
              "}\n",
              "\n",
              "#sk-container-id-1 label.sk-toggleable__label-arrow:before {\n",
              "  /* Arrow on the left of the label */\n",
              "  content: \"▸\";\n",
              "  float: left;\n",
              "  margin-right: 0.25em;\n",
              "  color: var(--sklearn-color-icon);\n",
              "}\n",
              "\n",
              "#sk-container-id-1 label.sk-toggleable__label-arrow:hover:before {\n",
              "  color: var(--sklearn-color-text);\n",
              "}\n",
              "\n",
              "/* Toggleable content - dropdown */\n",
              "\n",
              "#sk-container-id-1 div.sk-toggleable__content {\n",
              "  max-height: 0;\n",
              "  max-width: 0;\n",
              "  overflow: hidden;\n",
              "  text-align: left;\n",
              "  /* unfitted */\n",
              "  background-color: var(--sklearn-color-unfitted-level-0);\n",
              "}\n",
              "\n",
              "#sk-container-id-1 div.sk-toggleable__content.fitted {\n",
              "  /* fitted */\n",
              "  background-color: var(--sklearn-color-fitted-level-0);\n",
              "}\n",
              "\n",
              "#sk-container-id-1 div.sk-toggleable__content pre {\n",
              "  margin: 0.2em;\n",
              "  border-radius: 0.25em;\n",
              "  color: var(--sklearn-color-text);\n",
              "  /* unfitted */\n",
              "  background-color: var(--sklearn-color-unfitted-level-0);\n",
              "}\n",
              "\n",
              "#sk-container-id-1 div.sk-toggleable__content.fitted pre {\n",
              "  /* unfitted */\n",
              "  background-color: var(--sklearn-color-fitted-level-0);\n",
              "}\n",
              "\n",
              "#sk-container-id-1 input.sk-toggleable__control:checked~div.sk-toggleable__content {\n",
              "  /* Expand drop-down */\n",
              "  max-height: 200px;\n",
              "  max-width: 100%;\n",
              "  overflow: auto;\n",
              "}\n",
              "\n",
              "#sk-container-id-1 input.sk-toggleable__control:checked~label.sk-toggleable__label-arrow:before {\n",
              "  content: \"▾\";\n",
              "}\n",
              "\n",
              "/* Pipeline/ColumnTransformer-specific style */\n",
              "\n",
              "#sk-container-id-1 div.sk-label input.sk-toggleable__control:checked~label.sk-toggleable__label {\n",
              "  color: var(--sklearn-color-text);\n",
              "  background-color: var(--sklearn-color-unfitted-level-2);\n",
              "}\n",
              "\n",
              "#sk-container-id-1 div.sk-label.fitted input.sk-toggleable__control:checked~label.sk-toggleable__label {\n",
              "  background-color: var(--sklearn-color-fitted-level-2);\n",
              "}\n",
              "\n",
              "/* Estimator-specific style */\n",
              "\n",
              "/* Colorize estimator box */\n",
              "#sk-container-id-1 div.sk-estimator input.sk-toggleable__control:checked~label.sk-toggleable__label {\n",
              "  /* unfitted */\n",
              "  background-color: var(--sklearn-color-unfitted-level-2);\n",
              "}\n",
              "\n",
              "#sk-container-id-1 div.sk-estimator.fitted input.sk-toggleable__control:checked~label.sk-toggleable__label {\n",
              "  /* fitted */\n",
              "  background-color: var(--sklearn-color-fitted-level-2);\n",
              "}\n",
              "\n",
              "#sk-container-id-1 div.sk-label label.sk-toggleable__label,\n",
              "#sk-container-id-1 div.sk-label label {\n",
              "  /* The background is the default theme color */\n",
              "  color: var(--sklearn-color-text-on-default-background);\n",
              "}\n",
              "\n",
              "/* On hover, darken the color of the background */\n",
              "#sk-container-id-1 div.sk-label:hover label.sk-toggleable__label {\n",
              "  color: var(--sklearn-color-text);\n",
              "  background-color: var(--sklearn-color-unfitted-level-2);\n",
              "}\n",
              "\n",
              "/* Label box, darken color on hover, fitted */\n",
              "#sk-container-id-1 div.sk-label.fitted:hover label.sk-toggleable__label.fitted {\n",
              "  color: var(--sklearn-color-text);\n",
              "  background-color: var(--sklearn-color-fitted-level-2);\n",
              "}\n",
              "\n",
              "/* Estimator label */\n",
              "\n",
              "#sk-container-id-1 div.sk-label label {\n",
              "  font-family: monospace;\n",
              "  font-weight: bold;\n",
              "  display: inline-block;\n",
              "  line-height: 1.2em;\n",
              "}\n",
              "\n",
              "#sk-container-id-1 div.sk-label-container {\n",
              "  text-align: center;\n",
              "}\n",
              "\n",
              "/* Estimator-specific */\n",
              "#sk-container-id-1 div.sk-estimator {\n",
              "  font-family: monospace;\n",
              "  border: 1px dotted var(--sklearn-color-border-box);\n",
              "  border-radius: 0.25em;\n",
              "  box-sizing: border-box;\n",
              "  margin-bottom: 0.5em;\n",
              "  /* unfitted */\n",
              "  background-color: var(--sklearn-color-unfitted-level-0);\n",
              "}\n",
              "\n",
              "#sk-container-id-1 div.sk-estimator.fitted {\n",
              "  /* fitted */\n",
              "  background-color: var(--sklearn-color-fitted-level-0);\n",
              "}\n",
              "\n",
              "/* on hover */\n",
              "#sk-container-id-1 div.sk-estimator:hover {\n",
              "  /* unfitted */\n",
              "  background-color: var(--sklearn-color-unfitted-level-2);\n",
              "}\n",
              "\n",
              "#sk-container-id-1 div.sk-estimator.fitted:hover {\n",
              "  /* fitted */\n",
              "  background-color: var(--sklearn-color-fitted-level-2);\n",
              "}\n",
              "\n",
              "/* Specification for estimator info (e.g. \"i\" and \"?\") */\n",
              "\n",
              "/* Common style for \"i\" and \"?\" */\n",
              "\n",
              ".sk-estimator-doc-link,\n",
              "a:link.sk-estimator-doc-link,\n",
              "a:visited.sk-estimator-doc-link {\n",
              "  float: right;\n",
              "  font-size: smaller;\n",
              "  line-height: 1em;\n",
              "  font-family: monospace;\n",
              "  background-color: var(--sklearn-color-background);\n",
              "  border-radius: 1em;\n",
              "  height: 1em;\n",
              "  width: 1em;\n",
              "  text-decoration: none !important;\n",
              "  margin-left: 0.5em;\n",
              "  text-align: center;\n",
              "  /* unfitted */\n",
              "  border: var(--sklearn-color-unfitted-level-1) 1pt solid;\n",
              "  color: var(--sklearn-color-unfitted-level-1);\n",
              "}\n",
              "\n",
              ".sk-estimator-doc-link.fitted,\n",
              "a:link.sk-estimator-doc-link.fitted,\n",
              "a:visited.sk-estimator-doc-link.fitted {\n",
              "  /* fitted */\n",
              "  border: var(--sklearn-color-fitted-level-1) 1pt solid;\n",
              "  color: var(--sklearn-color-fitted-level-1);\n",
              "}\n",
              "\n",
              "/* On hover */\n",
              "div.sk-estimator:hover .sk-estimator-doc-link:hover,\n",
              ".sk-estimator-doc-link:hover,\n",
              "div.sk-label-container:hover .sk-estimator-doc-link:hover,\n",
              ".sk-estimator-doc-link:hover {\n",
              "  /* unfitted */\n",
              "  background-color: var(--sklearn-color-unfitted-level-3);\n",
              "  color: var(--sklearn-color-background);\n",
              "  text-decoration: none;\n",
              "}\n",
              "\n",
              "div.sk-estimator.fitted:hover .sk-estimator-doc-link.fitted:hover,\n",
              ".sk-estimator-doc-link.fitted:hover,\n",
              "div.sk-label-container:hover .sk-estimator-doc-link.fitted:hover,\n",
              ".sk-estimator-doc-link.fitted:hover {\n",
              "  /* fitted */\n",
              "  background-color: var(--sklearn-color-fitted-level-3);\n",
              "  color: var(--sklearn-color-background);\n",
              "  text-decoration: none;\n",
              "}\n",
              "\n",
              "/* Span, style for the box shown on hovering the info icon */\n",
              ".sk-estimator-doc-link span {\n",
              "  display: none;\n",
              "  z-index: 9999;\n",
              "  position: relative;\n",
              "  font-weight: normal;\n",
              "  right: .2ex;\n",
              "  padding: .5ex;\n",
              "  margin: .5ex;\n",
              "  width: min-content;\n",
              "  min-width: 20ex;\n",
              "  max-width: 50ex;\n",
              "  color: var(--sklearn-color-text);\n",
              "  box-shadow: 2pt 2pt 4pt #999;\n",
              "  /* unfitted */\n",
              "  background: var(--sklearn-color-unfitted-level-0);\n",
              "  border: .5pt solid var(--sklearn-color-unfitted-level-3);\n",
              "}\n",
              "\n",
              ".sk-estimator-doc-link.fitted span {\n",
              "  /* fitted */\n",
              "  background: var(--sklearn-color-fitted-level-0);\n",
              "  border: var(--sklearn-color-fitted-level-3);\n",
              "}\n",
              "\n",
              ".sk-estimator-doc-link:hover span {\n",
              "  display: block;\n",
              "}\n",
              "\n",
              "/* \"?\"-specific style due to the `<a>` HTML tag */\n",
              "\n",
              "#sk-container-id-1 a.estimator_doc_link {\n",
              "  float: right;\n",
              "  font-size: 1rem;\n",
              "  line-height: 1em;\n",
              "  font-family: monospace;\n",
              "  background-color: var(--sklearn-color-background);\n",
              "  border-radius: 1rem;\n",
              "  height: 1rem;\n",
              "  width: 1rem;\n",
              "  text-decoration: none;\n",
              "  /* unfitted */\n",
              "  color: var(--sklearn-color-unfitted-level-1);\n",
              "  border: var(--sklearn-color-unfitted-level-1) 1pt solid;\n",
              "}\n",
              "\n",
              "#sk-container-id-1 a.estimator_doc_link.fitted {\n",
              "  /* fitted */\n",
              "  border: var(--sklearn-color-fitted-level-1) 1pt solid;\n",
              "  color: var(--sklearn-color-fitted-level-1);\n",
              "}\n",
              "\n",
              "/* On hover */\n",
              "#sk-container-id-1 a.estimator_doc_link:hover {\n",
              "  /* unfitted */\n",
              "  background-color: var(--sklearn-color-unfitted-level-3);\n",
              "  color: var(--sklearn-color-background);\n",
              "  text-decoration: none;\n",
              "}\n",
              "\n",
              "#sk-container-id-1 a.estimator_doc_link.fitted:hover {\n",
              "  /* fitted */\n",
              "  background-color: var(--sklearn-color-fitted-level-3);\n",
              "}\n",
              "</style><div id=\"sk-container-id-1\" class=\"sk-top-container\"><div class=\"sk-text-repr-fallback\"><pre>LogisticRegression(C=0.5, max_iter=1000)</pre><b>In a Jupyter environment, please rerun this cell to show the HTML representation or trust the notebook. <br />On GitHub, the HTML representation is unable to render, please try loading this page with nbviewer.org.</b></div><div class=\"sk-container\" hidden><div class=\"sk-item\"><div class=\"sk-estimator fitted sk-toggleable\"><input class=\"sk-toggleable__control sk-hidden--visually\" id=\"sk-estimator-id-1\" type=\"checkbox\" checked><label for=\"sk-estimator-id-1\" class=\"sk-toggleable__label fitted sk-toggleable__label-arrow\"><div><div>LogisticRegression</div></div><div><a class=\"sk-estimator-doc-link fitted\" rel=\"noreferrer\" target=\"_blank\" href=\"https://scikit-learn.org/1.6/modules/generated/sklearn.linear_model.LogisticRegression.html\">?<span>Documentation for LogisticRegression</span></a><span class=\"sk-estimator-doc-link fitted\">i<span>Fitted</span></span></div></label><div class=\"sk-toggleable__content fitted\"><pre>LogisticRegression(C=0.5, max_iter=1000)</pre></div> </div></div></div></div>"
            ]
          },
          "metadata": {},
          "execution_count": 9
        }
      ],
      "source": [
        "modelLR = grid_search_LR.best_estimator_"
      ]
    },
    {
      "cell_type": "markdown",
      "metadata": {
        "id": "7W7zEsD2Hb1B"
      },
      "source": [
        "Una vez entrenado, se realizan algunas predicciones utilizando el conjunto de datos definido para prueba."
      ]
    },
    {
      "cell_type": "code",
      "execution_count": 10,
      "metadata": {
        "colab": {
          "base_uri": "https://localhost:8080/"
        },
        "id": "3TNghoSKbxKG",
        "outputId": "f88f2a7d-9d1b-4954-93b8-62cf28635d65"
      },
      "outputs": [
        {
          "output_type": "stream",
          "name": "stdout",
          "text": [
            "Predicciones: [0 9 1 ... 7 4 7]\n",
            "Valores Reales: [0 9 1 ... 7 4 7]\n",
            "\n",
            "Accuracy: 92.10%\n"
          ]
        }
      ],
      "source": [
        "#Primeras pruebas con el modelo\n",
        "y_pred_LR = modelLR.predict(X_test)\n",
        "\n",
        "#Se calcula la precisión obtenida\n",
        "acc_pred_LR = accuracy_score(y_test, y_pred_LR)\n",
        "\n",
        "#Se calcula la matriz de confusión asociada\n",
        "conf_matrix_LR = confusion_matrix(y_test, y_pred_LR)\n",
        "\n",
        "print(f\"Predicciones: {y_pred_LR}\\nValores Reales: {y_test}\\n\")\n",
        "print(f\"Accuracy: {acc_pred_LR * 100:.2f}%\")"
      ]
    },
    {
      "cell_type": "markdown",
      "source": [
        "### Sección 4, visualizaciones"
      ],
      "metadata": {
        "id": "ewTITs0yYsZP"
      }
    },
    {
      "cell_type": "markdown",
      "metadata": {
        "id": "EN4csAOdg8qL"
      },
      "source": [
        "Para finalizar, se muestra la matriz de confusión obtenida es la siguiente:"
      ]
    },
    {
      "cell_type": "code",
      "execution_count": 12,
      "metadata": {
        "colab": {
          "base_uri": "https://localhost:8080/",
          "height": 795
        },
        "id": "9JZBwU1XiGor",
        "outputId": "e10ca32d-cde4-4871-cfe8-6a57ef7e2d79"
      },
      "outputs": [
        {
          "output_type": "display_data",
          "data": {
            "text/plain": [
              "<Figure size 900x900 with 2 Axes>"
            ],
            "image/png": "[encoded data removed]"
          },
          "metadata": {}
        }
      ],
      "source": [
        "plt.figure(figsize = (9, 9))\n",
        "\n",
        "sns.heatmap(\n",
        "    conf_matrix_LR, annot = True,\n",
        "    fmt = 'd',\n",
        "    cmap = 'PuBuGn',\n",
        "    xticklabels = range(10),\n",
        "    yticklabels = range(10)\n",
        "    )\n",
        "\n",
        "plt.title('Matriz de Confusión')\n",
        "plt.xlabel('Predicciones')\n",
        "plt.ylabel('Valores Reales')\n",
        "plt.show()"
      ]
    },
    {
      "cell_type": "markdown",
      "metadata": {
        "id": "n4sZqqCfg_Wj"
      },
      "source": [
        "Acá se pueden visualizar de mejor manera los resultados obtenidos por el modelo."
      ]
    },
    {
      "cell_type": "code",
      "execution_count": 11,
      "metadata": {
        "colab": {
          "base_uri": "https://localhost:8080/",
          "height": 284
        },
        "id": "NIeW2vo7ceON",
        "outputId": "7e580f78-6433-4c5f-bb23-9252f23af157"
      },
      "outputs": [
        {
          "output_type": "display_data",
          "data": {
            "text/plain": [
              "<Figure size 2000x1000 with 8 Axes>"
            ],
            "image/png": "[encoded data removed]"
          },
          "metadata": {}
        }
      ],
      "source": [
        "samples = 8\n",
        "samples_index = np.random.choice(len(X_test), samples, replace = False)\n",
        "\n",
        "plt.figure(figsize=(20, 10))\n",
        "\n",
        "for i, index in enumerate(samples_index):\n",
        "    plt.subplot(1, samples, i + 1)\n",
        "    plt.imshow(X_test[index].reshape(28, 28), cmap = 'gray')\n",
        "    plt.title(f\"Predicción: {y_pred_LR[index]}\\nValor real: {y_test[index]}\")\n",
        "    plt.axis('off')\n",
        "\n",
        "plt.tight_layout()\n",
        "plt.show()"
      ]
    },
    {
      "cell_type": "markdown",
      "metadata": {
        "id": "-ajQGiogW0-W"
      },
      "source": [
        "## K-Vecinos"
      ]
    },
    {
      "cell_type": "markdown",
      "metadata": {
        "id": "4i_OaPK9W-7y"
      },
      "source": [
        "### Seccion 1"
      ]
    },
    {
      "cell_type": "markdown",
      "metadata": {
        "id": "wv1gXV0wXGBH"
      },
      "source": [
        "Explicacion e import de las librerias necesarias para el modelo"
      ]
    },
    {
      "cell_type": "code",
      "execution_count": 13,
      "metadata": {
        "id": "MG0XSCiVThVJ"
      },
      "outputs": [],
      "source": [
        "from sklearn.neighbors import KNeighborsClassifier"
      ]
    },
    {
      "cell_type": "markdown",
      "metadata": {
        "id": "rIiYN4mwThVK"
      },
      "source": [
        "### Seccion 2, seleccion de hiperparametros, scores y entrenamiento"
      ]
    },
    {
      "cell_type": "markdown",
      "metadata": {
        "id": "WoN5l6uCThVL"
      },
      "source": [
        "Explicacion de los hiperparametros de KNN y el como se obtienen sus valores optimos\n",
        "* K:\n",
        "* Pesos:\n",
        "* Distancia:"
      ]
    },
    {
      "cell_type": "code",
      "source": [
        "#Se definen los parámetros a estimar\n",
        "param_grid_KNN = {\n",
        "    'n_neighbors': range(2, 5),\n",
        "    'weights': ['uniform', 'distance'],\n",
        "    'metric': ['euclidean']\n",
        "    }"
      ],
      "metadata": {
        "id": "4zJya-ftJ_sk"
      },
      "execution_count": null,
      "outputs": []
    },
    {
      "cell_type": "code",
      "source": [
        "#Este fragmento de código contiene los mejores valores\n",
        "#para los parámetros, esto con la finalidad de\n",
        "#no tener que calcularlos en cada inicio del notebook\n",
        "param_grid_KNN = {\n",
        "    'n_neighbors': [3],\n",
        "    'weights': ['distance'],\n",
        "    'metric': ['euclidean']\n",
        "    }"
      ],
      "metadata": {
        "id": "-nTsqnFgglEJ"
      },
      "execution_count": 14,
      "outputs": []
    },
    {
      "cell_type": "code",
      "execution_count": null,
      "metadata": {
        "id": "nQE2knonThVM"
      },
      "outputs": [],
      "source": [
        "#Se usa GridSearchCV para los calculos de los hiperparámetros y de los scores\n",
        "grid_search = GridSearchCV(KNeighborsClassifier(), param_grid_KNN, cv = 5, scoring = scores, refit='f1_weighted')\n",
        "\n",
        "#Shhhh... Machine is Learning (again)\n",
        "grid_search.fit(X_train, y_train)"
      ]
    },
    {
      "cell_type": "markdown",
      "source": [
        "Después de haber realizado las pruebas correspondientes, se obtuvieron los siguientes valores para los hiperparámetros:\n",
        "\n",
        "* K = 3\n",
        "* weights = 'distance'\n",
        "* metric = 'euclidean'"
      ],
      "metadata": {
        "id": "fQiW1aBaeDa-"
      }
    },
    {
      "cell_type": "code",
      "source": [
        "print(f\"Mejores hiperparámetros encontrados:\\n\")\n",
        "print(f\"Best K: {grid_search.best_params_['n_neighbors']}\")\n",
        "print(f\"Best weights: {grid_search.best_params_['weights']}\")\n",
        "print(f\"Best metric: {grid_search.best_params_['metric']}\")\n",
        "print(f\"F1 Score (weighted): {grid_search.cv_results_['mean_test_f1_weighted'].mean() * 100:.2f}%\")\n",
        "print(f\"Accuracy: {grid_search.cv_results_['mean_test_accuracy'].mean() * 100:.2f}%\")"
      ],
      "metadata": {
        "colab": {
          "base_uri": "https://localhost:8080/"
        },
        "id": "doiC0Ng6et2p",
        "outputId": "afaa10f3-bd50-4199-b4f3-339eadcb70ab"
      },
      "execution_count": 16,
      "outputs": [
        {
          "output_type": "stream",
          "name": "stdout",
          "text": [
            "Mejores hiperparámetros encontrados:\n",
            "\n",
            "Best K: 3\n",
            "Best weights: distance\n",
            "Best metric: euclidean\n",
            "F1 Score (weighted): 96.99%\n",
            "Accuracy: 96.99%\n"
          ]
        }
      ]
    },
    {
      "cell_type": "markdown",
      "source": [
        "### Sección 3, pruebas con el modelo"
      ],
      "metadata": {
        "id": "fjBagcHBetLz"
      }
    },
    {
      "cell_type": "code",
      "source": [
        "modelKNN = grid_search.best_estimator_"
      ],
      "metadata": {
        "id": "UdY4yzHSeCNJ"
      },
      "execution_count": 17,
      "outputs": []
    },
    {
      "cell_type": "markdown",
      "metadata": {
        "id": "gWy_cdiPThVN"
      },
      "source": [
        "Resultados obtenidos:"
      ]
    },
    {
      "cell_type": "code",
      "execution_count": 18,
      "metadata": {
        "colab": {
          "base_uri": "https://localhost:8080/"
        },
        "id": "FaZwGOpAThVN",
        "outputId": "13fdd899-abf7-4536-ef0b-ef22e3460b8c"
      },
      "outputs": [
        {
          "output_type": "stream",
          "name": "stdout",
          "text": [
            "Predicciones: [0 9 1 ... 7 4 7]\n",
            "Valores Reales: [0 9 1 ... 7 4 7]\n",
            "\n",
            "Accuracy: 97.27%\n"
          ]
        }
      ],
      "source": [
        "#Primeras predicciones del modelo:\n",
        "y_pred_KNN = modelKNN.predict(X_test)\n",
        "\n",
        "#Se calcula la precisión obtenida\n",
        "acc_pred_KNN = modelKNN.score(X_test, y_test)\n",
        "\n",
        "#Se calcula la matriz de confusión asociada\n",
        "conf_matrix_KNN = confusion_matrix(y_test, y_pred_KNN)\n",
        "\n",
        "print(f\"Predicciones: {y_pred_KNN}\\nValores Reales: {y_test}\\n\")\n",
        "print(f\"Accuracy: {acc_pred_KNN * 100:.2f}%\")"
      ]
    },
    {
      "cell_type": "markdown",
      "source": [
        "Visualizaciones"
      ],
      "metadata": {
        "id": "pSbi6OW4z42Z"
      }
    },
    {
      "cell_type": "code",
      "execution_count": 19,
      "metadata": {
        "id": "P5U7xmTdThVs",
        "colab": {
          "base_uri": "https://localhost:8080/",
          "height": 284
        },
        "outputId": "2874a247-c203-4690-8083-486df225a518"
      },
      "outputs": [
        {
          "output_type": "display_data",
          "data": {
            "text/plain": [
              "<Figure size 2000x1000 with 8 Axes>"
            ],
            "image/png": "[encoded data removed]"
          },
          "metadata": {}
        }
      ],
      "source": [
        "samples = 8\n",
        "samples_index = np.random.choice(len(X_test), samples, replace = False)\n",
        "\n",
        "plt.figure(figsize=(20, 10))\n",
        "\n",
        "for i, index in enumerate(samples_index):\n",
        "    plt.subplot(1, samples, i + 1)\n",
        "    plt.imshow(X_test[index].reshape(28, 28), cmap = 'gray')\n",
        "    plt.title(f\"Predicción: {y_pred_KNN[index]}\\nValor real: {y_test[index]}\")\n",
        "    plt.axis('off')\n",
        "\n",
        "plt.tight_layout()\n",
        "plt.show()"
      ]
    },
    {
      "cell_type": "markdown",
      "source": [
        "Matriz de confusion:"
      ],
      "metadata": {
        "id": "bsxmD8XG0IMM"
      }
    },
    {
      "cell_type": "code",
      "source": [
        "plt.figure(figsize = (9, 9))\n",
        "\n",
        "sns.heatmap(\n",
        "    conf_matrix_KNN, annot = True,\n",
        "    fmt = 'd',\n",
        "    cmap = 'PuBuGn',\n",
        "    xticklabels = range(10),\n",
        "    yticklabels = range(10)\n",
        "    )\n",
        "\n",
        "plt.title('Matriz de Confusión')\n",
        "plt.xlabel('Predicciones')\n",
        "plt.ylabel('Valores Reales')\n",
        "plt.show()"
      ],
      "metadata": {
        "colab": {
          "base_uri": "https://localhost:8080/",
          "height": 795
        },
        "id": "v9PIrjFy0Leg",
        "outputId": "8d6694ad-8073-4dfa-c532-8a8879463b21"
      },
      "execution_count": 20,
      "outputs": [
        {
          "output_type": "display_data",
          "data": {
            "text/plain": [
              "<Figure size 900x900 with 2 Axes>"
            ],
            "image/png": "[encoded data removed]"
          },
          "metadata": {}
        }
      ]
    },
    {
      "cell_type": "markdown",
      "metadata": {
        "id": "KB_cBCLDThVw"
      },
      "source": [
        "## SVM"
      ]
    },
    {
      "cell_type": "markdown",
      "metadata": {
        "id": "FDvLCnA4ThVu"
      },
      "source": [
        "### Seccion 1, import del modelo"
      ]
    },
    {
      "cell_type": "code",
      "source": [
        "from sklearn.svm import SVC"
      ],
      "metadata": {
        "id": "gTIRZe3i6Ugd"
      },
      "execution_count": null,
      "outputs": []
    },
    {
      "cell_type": "markdown",
      "source": [
        "### Sección 2, cálculo de hiperparámetros, scores y entrenamiento"
      ],
      "metadata": {
        "id": "jPZXE71w6dl3"
      }
    },
    {
      "cell_type": "code",
      "source": [
        "param_grid_SVM = {\n",
        "    'C': [0.0, 0.1, 1, 10],\n",
        "    'gamma': [0.01, 0.1, 1]\n",
        "}"
      ],
      "metadata": {
        "id": "3pGjW8fS69ho"
      },
      "execution_count": null,
      "outputs": []
    },
    {
      "cell_type": "code",
      "source": [
        "grid_search_SVM = GridSearchCV(SVC(kernel = 'rbf'), param_grid_SVM, cv = 5, scoring = scores, refit='f1_weighted')\n",
        "\n",
        "#Be quiet... Machine's Learnig over here\n",
        "grid_search_SVM.fit(X_train, y_train)"
      ],
      "metadata": {
        "id": "n_2DlXeNXvT6"
      },
      "execution_count": null,
      "outputs": []
    },
    {
      "cell_type": "code",
      "source": [
        "print(f\"Resultados obtenidos:\\n\")\n",
        "print(f\"Hiperparámetros encontrados: {grid_search_SVM.best_params_}\")\n",
        "print(f\"F1 Score (weighted): {grid_search_SVM.cv_results_['mean_test_f1_weighted'].mean() * 100:.2f}%\")\n",
        "print(f\"Accuracy: {grid_search_SVM.cv_results_['mean_test_accuracy'].mean() * 100:.2f}%\")"
      ],
      "metadata": {
        "id": "kVsk591lYSi5"
      },
      "execution_count": null,
      "outputs": []
    },
    {
      "cell_type": "markdown",
      "source": [
        "### Sección 3, pruebas del modelo"
      ],
      "metadata": {
        "id": "TxKXww_i697H"
      }
    },
    {
      "cell_type": "code",
      "source": [
        "modelSVM = grid_search_SVM.best_estimator_"
      ],
      "metadata": {
        "id": "89ZxnXuN6ghi"
      },
      "execution_count": null,
      "outputs": []
    },
    {
      "cell_type": "code",
      "source": [
        "y_pred_SVM = modelSVM.predict(X_test)\n",
        "\n",
        "acc_pred_SVM = accuracy_score(y_test, y_pred_SVM)\n",
        "\n",
        "conf_matrix_SVM = confusion_matrix(y_test, y_pred_SVM)"
      ],
      "metadata": {
        "id": "Q-9QtD9L6pTo"
      },
      "execution_count": null,
      "outputs": []
    }
  ],
  "metadata": {
    "colab": {
      "collapsed_sections": [
        "BmTu2kJm9U4A",
        "dvEUTYahIv_x",
        "iiY9hHxFIv_3",
        "UfWYhVDvIv__"
      ],
      "provenance": [],
      "gpuType": "V28",
      "include_colab_link": true
    },
    "kernelspec": {
      "display_name": "Python 3",
      "name": "python3"
    },
    "language_info": {
      "codemirror_mode": {
        "name": "ipython",
        "version": 3
      },
      "file_extension": ".py",
      "mimetype": "text/x-python",
      "name": "python",
      "nbconvert_exporter": "python",
      "pygments_lexer": "ipython3",
      "version": "3.11.7"
    },
    "accelerator": "TPU"
  },
  "nbformat": 4,
  "nbformat_minor": 0
}