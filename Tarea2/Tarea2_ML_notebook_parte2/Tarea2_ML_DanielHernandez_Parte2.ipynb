{
  "cells": [
    {
      "cell_type": "markdown",
      "metadata": {
        "id": "view-in-github",
        "colab_type": "text"
      },
      "source": [
        "<a href=\"https://colab.research.google.com/github/Morax19/ML_UCV/blob/main/Tarea2/Tarea2_ML_notebook_parte2/Tarea2_ML_DanielHernandez_Parte2.ipynb\" target=\"_parent\"><img src=\"https://colab.research.google.com/assets/colab-badge.svg\" alt=\"Open In Colab\"/></a>"
      ]
    },
    {
      "cell_type": "markdown",
      "id": "ee54185e-6279-44eb-9ca9-8bfbdc5b78c9",
      "metadata": {
        "id": "ee54185e-6279-44eb-9ca9-8bfbdc5b78c9"
      },
      "source": [
        "TAREA 2: APRENDIZAJE SUPERVISADO<br>\n",
        "Aprendizaje Automático, Escuela de Computación, Facultad de Ciencias - UCV\n",
        "<br>\n",
        "<br>\n",
        "# Parte 3: Regresión Logística/Clasificación (OPCIÓN B)\n",
        "<br>\n",
        "<br>\n",
        "Autor: Daniel Hernández<br>\n",
        "Fecha: 14 de Febrero 2025"
      ]
    },
    {
      "cell_type": "markdown",
      "id": "aab4d800-4acf-451c-94e9-fedb7b0dbe68",
      "metadata": {
        "id": "aab4d800-4acf-451c-94e9-fedb7b0dbe68"
      },
      "source": [
        "## Introducción\n",
        "\n",
        "---\n",
        "\n",
        "El objetivo principal de este notebook será hacer uso del conjunto de datos [Breast Cancer Wisconsin](https://archive.ics.uci.edu/dataset/17/breast+cancer+wisconsin+diagnostic) para resolver la tarea de clasificación y predecir si un tumor es maligno (M) o benigno (B), esto teniendo en cuenta 30 atributos numéricos relacionados con las propiedades de los núcleos celulares.\n",
        "\n",
        "Además, se analizará el rendimiento del modelo y cómo el balance de clases afecta al mismo, haciendo uso de herramientas como la Curva ROC, F1-score y AUC."
      ]
    },
    {
      "cell_type": "markdown",
      "source": [
        "### Configuración del entorno"
      ],
      "metadata": {
        "id": "xm8c2QeDRwwt"
      },
      "id": "xm8c2QeDRwwt"
    },
    {
      "cell_type": "markdown",
      "source": [
        "Nuestro primer paso es definir el valor de la semilla, de forma que los resultados obtenidos puedan reproducirse."
      ],
      "metadata": {
        "id": "gLoi2KIkejHr"
      },
      "id": "gLoi2KIkejHr"
    },
    {
      "cell_type": "code",
      "source": [
        "SEED = 27795163"
      ],
      "metadata": {
        "id": "xxN5xwFieq4W"
      },
      "id": "xxN5xwFieq4W",
      "execution_count": 2,
      "outputs": []
    },
    {
      "cell_type": "markdown",
      "source": [
        "En esta sección se harán los imports de las librerías necesarias a lo largo del notebook."
      ],
      "metadata": {
        "id": "YDfkaIReR19a"
      },
      "id": "YDfkaIReR19a"
    },
    {
      "cell_type": "code",
      "source": [
        "import time\n",
        "import numpy as np\n",
        "import pandas as pd\n",
        "import seaborn as sns\n",
        "import matplotlib.pyplot as plt"
      ],
      "metadata": {
        "id": "qm8mrPc0R_8A"
      },
      "id": "qm8mrPc0R_8A",
      "execution_count": 3,
      "outputs": []
    },
    {
      "cell_type": "markdown",
      "id": "01350109-12d4-4ac6-9a64-cc7a9a86cbbd",
      "metadata": {
        "id": "01350109-12d4-4ac6-9a64-cc7a9a86cbbd"
      },
      "source": [
        "### Exploración del conjunto de datos"
      ]
    },
    {
      "cell_type": "markdown",
      "source": [
        "Para comenzar debemos cargar el conjunto de datos desde SciKitLearn"
      ],
      "metadata": {
        "id": "b4hczLL7SO86"
      },
      "id": "b4hczLL7SO86"
    },
    {
      "cell_type": "code",
      "source": [
        "from sklearn.datasets import load_breast_cancer\n",
        "from sklearn.model_selection import train_test_split\n",
        "from sklearn.preprocessing import StandardScaler\n",
        "\n",
        "#Se cargan los datos\n",
        "data = load_breast_cancer()"
      ],
      "metadata": {
        "id": "7u1Pmf0GSV0X"
      },
      "id": "7u1Pmf0GSV0X",
      "execution_count": 4,
      "outputs": []
    },
    {
      "cell_type": "markdown",
      "source": [
        "El paso siguiente será inspeccionar parte de los datos haciendo uso de la librería [Pandas](https://pandas.pydata.org/). De esta forma podremos observar cada una de las columnas de nuestro conjunto de datos y por motivos estéticos del notebook solo se mostrarán las primeras 6 filas"
      ],
      "metadata": {
        "id": "yAOgsTiATMcC"
      },
      "id": "yAOgsTiATMcC"
    },
    {
      "cell_type": "code",
      "source": [
        "#Se almacenan los datos en un Data Frame\n",
        "cancer_df = pd.DataFrame(np.c_[data['data'], data['target']], columns=np.append(data['feature_names'], ['target']))\n",
        "\n",
        "#Se muestra un resumen de los datos usando el Data Frame\n",
        "pd.set_option('display.max_columns', None)\n",
        "display(cancer_df.head(6))\n",
        "pd.reset_option('display.max_columns')"
      ],
      "metadata": {
        "colab": {
          "base_uri": "https://localhost:8080/",
          "height": 292
        },
        "id": "xd6NbJTjTdKX",
        "outputId": "b9d219c8-ec94-4d0c-9c7e-d4dcdd9422b4"
      },
      "id": "xd6NbJTjTdKX",
      "execution_count": 5,
      "outputs": [
        {
          "output_type": "display_data",
          "data": {
            "text/plain": [
              "   mean radius  mean texture  mean perimeter  mean area  mean smoothness  \\\n",
              "0        17.99         10.38          122.80     1001.0          0.11840   \n",
              "1        20.57         17.77          132.90     1326.0          0.08474   \n",
              "2        19.69         21.25          130.00     1203.0          0.10960   \n",
              "3        11.42         20.38           77.58      386.1          0.14250   \n",
              "4        20.29         14.34          135.10     1297.0          0.10030   \n",
              "5        12.45         15.70           82.57      477.1          0.12780   \n",
              "\n",
              "   mean compactness  mean concavity  mean concave points  mean symmetry  \\\n",
              "0           0.27760          0.3001              0.14710         0.2419   \n",
              "1           0.07864          0.0869              0.07017         0.1812   \n",
              "2           0.15990          0.1974              0.12790         0.2069   \n",
              "3           0.28390          0.2414              0.10520         0.2597   \n",
              "4           0.13280          0.1980              0.10430         0.1809   \n",
              "5           0.17000          0.1578              0.08089         0.2087   \n",
              "\n",
              "   mean fractal dimension  radius error  texture error  perimeter error  \\\n",
              "0                 0.07871        1.0950         0.9053            8.589   \n",
              "1                 0.05667        0.5435         0.7339            3.398   \n",
              "2                 0.05999        0.7456         0.7869            4.585   \n",
              "3                 0.09744        0.4956         1.1560            3.445   \n",
              "4                 0.05883        0.7572         0.7813            5.438   \n",
              "5                 0.07613        0.3345         0.8902            2.217   \n",
              "\n",
              "   area error  smoothness error  compactness error  concavity error  \\\n",
              "0      153.40          0.006399            0.04904          0.05373   \n",
              "1       74.08          0.005225            0.01308          0.01860   \n",
              "2       94.03          0.006150            0.04006          0.03832   \n",
              "3       27.23          0.009110            0.07458          0.05661   \n",
              "4       94.44          0.011490            0.02461          0.05688   \n",
              "5       27.19          0.007510            0.03345          0.03672   \n",
              "\n",
              "   concave points error  symmetry error  fractal dimension error  \\\n",
              "0               0.01587         0.03003                 0.006193   \n",
              "1               0.01340         0.01389                 0.003532   \n",
              "2               0.02058         0.02250                 0.004571   \n",
              "3               0.01867         0.05963                 0.009208   \n",
              "4               0.01885         0.01756                 0.005115   \n",
              "5               0.01137         0.02165                 0.005082   \n",
              "\n",
              "   worst radius  worst texture  worst perimeter  worst area  worst smoothness  \\\n",
              "0         25.38          17.33           184.60      2019.0            0.1622   \n",
              "1         24.99          23.41           158.80      1956.0            0.1238   \n",
              "2         23.57          25.53           152.50      1709.0            0.1444   \n",
              "3         14.91          26.50            98.87       567.7            0.2098   \n",
              "4         22.54          16.67           152.20      1575.0            0.1374   \n",
              "5         15.47          23.75           103.40       741.6            0.1791   \n",
              "\n",
              "   worst compactness  worst concavity  worst concave points  worst symmetry  \\\n",
              "0             0.6656           0.7119                0.2654          0.4601   \n",
              "1             0.1866           0.2416                0.1860          0.2750   \n",
              "2             0.4245           0.4504                0.2430          0.3613   \n",
              "3             0.8663           0.6869                0.2575          0.6638   \n",
              "4             0.2050           0.4000                0.1625          0.2364   \n",
              "5             0.5249           0.5355                0.1741          0.3985   \n",
              "\n",
              "   worst fractal dimension  target  \n",
              "0                  0.11890     0.0  \n",
              "1                  0.08902     0.0  \n",
              "2                  0.08758     0.0  \n",
              "3                  0.17300     0.0  \n",
              "4                  0.07678     0.0  \n",
              "5                  0.12440     0.0  "
            ],
            "text/html": [
              "\n",
              "  <div id=\"df-0b38844c-a6e3-4700-9007-f55f74d7f31d\" class=\"colab-df-container\">\n",
              "    <div>\n",
              "<style scoped>\n",
              "    .dataframe tbody tr th:only-of-type {\n",
              "        vertical-align: middle;\n",
              "    }\n",
              "\n",
              "    .dataframe tbody tr th {\n",
              "        vertical-align: top;\n",
              "    }\n",
              "\n",
              "    .dataframe thead th {\n",
              "        text-align: right;\n",
              "    }\n",
              "</style>\n",
              "<table border=\"1\" class=\"dataframe\">\n",
              "  <thead>\n",
              "    <tr style=\"text-align: right;\">\n",
              "      <th></th>\n",
              "      <th>mean radius</th>\n",
              "      <th>mean texture</th>\n",
              "      <th>mean perimeter</th>\n",
              "      <th>mean area</th>\n",
              "      <th>mean smoothness</th>\n",
              "      <th>mean compactness</th>\n",
              "      <th>mean concavity</th>\n",
              "      <th>mean concave points</th>\n",
              "      <th>mean symmetry</th>\n",
              "      <th>mean fractal dimension</th>\n",
              "      <th>radius error</th>\n",
              "      <th>texture error</th>\n",
              "      <th>perimeter error</th>\n",
              "      <th>area error</th>\n",
              "      <th>smoothness error</th>\n",
              "      <th>compactness error</th>\n",
              "      <th>concavity error</th>\n",
              "      <th>concave points error</th>\n",
              "      <th>symmetry error</th>\n",
              "      <th>fractal dimension error</th>\n",
              "      <th>worst radius</th>\n",
              "      <th>worst texture</th>\n",
              "      <th>worst perimeter</th>\n",
              "      <th>worst area</th>\n",
              "      <th>worst smoothness</th>\n",
              "      <th>worst compactness</th>\n",
              "      <th>worst concavity</th>\n",
              "      <th>worst concave points</th>\n",
              "      <th>worst symmetry</th>\n",
              "      <th>worst fractal dimension</th>\n",
              "      <th>target</th>\n",
              "    </tr>\n",
              "  </thead>\n",
              "  <tbody>\n",
              "    <tr>\n",
              "      <th>0</th>\n",
              "      <td>17.99</td>\n",
              "      <td>10.38</td>\n",
              "      <td>122.80</td>\n",
              "      <td>1001.0</td>\n",
              "      <td>0.11840</td>\n",
              "      <td>0.27760</td>\n",
              "      <td>0.3001</td>\n",
              "      <td>0.14710</td>\n",
              "      <td>0.2419</td>\n",
              "      <td>0.07871</td>\n",
              "      <td>1.0950</td>\n",
              "      <td>0.9053</td>\n",
              "      <td>8.589</td>\n",
              "      <td>153.40</td>\n",
              "      <td>0.006399</td>\n",
              "      <td>0.04904</td>\n",
              "      <td>0.05373</td>\n",
              "      <td>0.01587</td>\n",
              "      <td>0.03003</td>\n",
              "      <td>0.006193</td>\n",
              "      <td>25.38</td>\n",
              "      <td>17.33</td>\n",
              "      <td>184.60</td>\n",
              "      <td>2019.0</td>\n",
              "      <td>0.1622</td>\n",
              "      <td>0.6656</td>\n",
              "      <td>0.7119</td>\n",
              "      <td>0.2654</td>\n",
              "      <td>0.4601</td>\n",
              "      <td>0.11890</td>\n",
              "      <td>0.0</td>\n",
              "    </tr>\n",
              "    <tr>\n",
              "      <th>1</th>\n",
              "      <td>20.57</td>\n",
              "      <td>17.77</td>\n",
              "      <td>132.90</td>\n",
              "      <td>1326.0</td>\n",
              "      <td>0.08474</td>\n",
              "      <td>0.07864</td>\n",
              "      <td>0.0869</td>\n",
              "      <td>0.07017</td>\n",
              "      <td>0.1812</td>\n",
              "      <td>0.05667</td>\n",
              "      <td>0.5435</td>\n",
              "      <td>0.7339</td>\n",
              "      <td>3.398</td>\n",
              "      <td>74.08</td>\n",
              "      <td>0.005225</td>\n",
              "      <td>0.01308</td>\n",
              "      <td>0.01860</td>\n",
              "      <td>0.01340</td>\n",
              "      <td>0.01389</td>\n",
              "      <td>0.003532</td>\n",
              "      <td>24.99</td>\n",
              "      <td>23.41</td>\n",
              "      <td>158.80</td>\n",
              "      <td>1956.0</td>\n",
              "      <td>0.1238</td>\n",
              "      <td>0.1866</td>\n",
              "      <td>0.2416</td>\n",
              "      <td>0.1860</td>\n",
              "      <td>0.2750</td>\n",
              "      <td>0.08902</td>\n",
              "      <td>0.0</td>\n",
              "    </tr>\n",
              "    <tr>\n",
              "      <th>2</th>\n",
              "      <td>19.69</td>\n",
              "      <td>21.25</td>\n",
              "      <td>130.00</td>\n",
              "      <td>1203.0</td>\n",
              "      <td>0.10960</td>\n",
              "      <td>0.15990</td>\n",
              "      <td>0.1974</td>\n",
              "      <td>0.12790</td>\n",
              "      <td>0.2069</td>\n",
              "      <td>0.05999</td>\n",
              "      <td>0.7456</td>\n",
              "      <td>0.7869</td>\n",
              "      <td>4.585</td>\n",
              "      <td>94.03</td>\n",
              "      <td>0.006150</td>\n",
              "      <td>0.04006</td>\n",
              "      <td>0.03832</td>\n",
              "      <td>0.02058</td>\n",
              "      <td>0.02250</td>\n",
              "      <td>0.004571</td>\n",
              "      <td>23.57</td>\n",
              "      <td>25.53</td>\n",
              "      <td>152.50</td>\n",
              "      <td>1709.0</td>\n",
              "      <td>0.1444</td>\n",
              "      <td>0.4245</td>\n",
              "      <td>0.4504</td>\n",
              "      <td>0.2430</td>\n",
              "      <td>0.3613</td>\n",
              "      <td>0.08758</td>\n",
              "      <td>0.0</td>\n",
              "    </tr>\n",
              "    <tr>\n",
              "      <th>3</th>\n",
              "      <td>11.42</td>\n",
              "      <td>20.38</td>\n",
              "      <td>77.58</td>\n",
              "      <td>386.1</td>\n",
              "      <td>0.14250</td>\n",
              "      <td>0.28390</td>\n",
              "      <td>0.2414</td>\n",
              "      <td>0.10520</td>\n",
              "      <td>0.2597</td>\n",
              "      <td>0.09744</td>\n",
              "      <td>0.4956</td>\n",
              "      <td>1.1560</td>\n",
              "      <td>3.445</td>\n",
              "      <td>27.23</td>\n",
              "      <td>0.009110</td>\n",
              "      <td>0.07458</td>\n",
              "      <td>0.05661</td>\n",
              "      <td>0.01867</td>\n",
              "      <td>0.05963</td>\n",
              "      <td>0.009208</td>\n",
              "      <td>14.91</td>\n",
              "      <td>26.50</td>\n",
              "      <td>98.87</td>\n",
              "      <td>567.7</td>\n",
              "      <td>0.2098</td>\n",
              "      <td>0.8663</td>\n",
              "      <td>0.6869</td>\n",
              "      <td>0.2575</td>\n",
              "      <td>0.6638</td>\n",
              "      <td>0.17300</td>\n",
              "      <td>0.0</td>\n",
              "    </tr>\n",
              "    <tr>\n",
              "      <th>4</th>\n",
              "      <td>20.29</td>\n",
              "      <td>14.34</td>\n",
              "      <td>135.10</td>\n",
              "      <td>1297.0</td>\n",
              "      <td>0.10030</td>\n",
              "      <td>0.13280</td>\n",
              "      <td>0.1980</td>\n",
              "      <td>0.10430</td>\n",
              "      <td>0.1809</td>\n",
              "      <td>0.05883</td>\n",
              "      <td>0.7572</td>\n",
              "      <td>0.7813</td>\n",
              "      <td>5.438</td>\n",
              "      <td>94.44</td>\n",
              "      <td>0.011490</td>\n",
              "      <td>0.02461</td>\n",
              "      <td>0.05688</td>\n",
              "      <td>0.01885</td>\n",
              "      <td>0.01756</td>\n",
              "      <td>0.005115</td>\n",
              "      <td>22.54</td>\n",
              "      <td>16.67</td>\n",
              "      <td>152.20</td>\n",
              "      <td>1575.0</td>\n",
              "      <td>0.1374</td>\n",
              "      <td>0.2050</td>\n",
              "      <td>0.4000</td>\n",
              "      <td>0.1625</td>\n",
              "      <td>0.2364</td>\n",
              "      <td>0.07678</td>\n",
              "      <td>0.0</td>\n",
              "    </tr>\n",
              "    <tr>\n",
              "      <th>5</th>\n",
              "      <td>12.45</td>\n",
              "      <td>15.70</td>\n",
              "      <td>82.57</td>\n",
              "      <td>477.1</td>\n",
              "      <td>0.12780</td>\n",
              "      <td>0.17000</td>\n",
              "      <td>0.1578</td>\n",
              "      <td>0.08089</td>\n",
              "      <td>0.2087</td>\n",
              "      <td>0.07613</td>\n",
              "      <td>0.3345</td>\n",
              "      <td>0.8902</td>\n",
              "      <td>2.217</td>\n",
              "      <td>27.19</td>\n",
              "      <td>0.007510</td>\n",
              "      <td>0.03345</td>\n",
              "      <td>0.03672</td>\n",
              "      <td>0.01137</td>\n",
              "      <td>0.02165</td>\n",
              "      <td>0.005082</td>\n",
              "      <td>15.47</td>\n",
              "      <td>23.75</td>\n",
              "      <td>103.40</td>\n",
              "      <td>741.6</td>\n",
              "      <td>0.1791</td>\n",
              "      <td>0.5249</td>\n",
              "      <td>0.5355</td>\n",
              "      <td>0.1741</td>\n",
              "      <td>0.3985</td>\n",
              "      <td>0.12440</td>\n",
              "      <td>0.0</td>\n",
              "    </tr>\n",
              "  </tbody>\n",
              "</table>\n",
              "</div>\n",
              "    <div class=\"colab-df-buttons\">\n",
              "\n",
              "  <div class=\"colab-df-container\">\n",
              "    <button class=\"colab-df-convert\" onclick=\"convertToInteractive('df-0b38844c-a6e3-4700-9007-f55f74d7f31d')\"\n",
              "            title=\"Convert this dataframe to an interactive table.\"\n",
              "            style=\"display:none;\">\n",
              "\n",
              "  <svg xmlns=\"http://www.w3.org/2000/svg\" height=\"24px\" viewBox=\"0 -960 960 960\">\n",
              "    <path d=\"M120-120v-720h720v720H120Zm60-500h600v-160H180v160Zm220 220h160v-160H400v160Zm0 220h160v-160H400v160ZM180-400h160v-160H180v160Zm440 0h160v-160H620v160ZM180-180h160v-160H180v160Zm440 0h160v-160H620v160Z\"/>\n",
              "  </svg>\n",
              "    </button>\n",
              "\n",
              "  <style>\n",
              "    .colab-df-container {\n",
              "      display:flex;\n",
              "      gap: 12px;\n",
              "    }\n",
              "\n",
              "    .colab-df-convert {\n",
              "      background-color: #E8F0FE;\n",
              "      border: none;\n",
              "      border-radius: 50%;\n",
              "      cursor: pointer;\n",
              "      display: none;\n",
              "      fill: #1967D2;\n",
              "      height: 32px;\n",
              "      padding: 0 0 0 0;\n",
              "      width: 32px;\n",
              "    }\n",
              "\n",
              "    .colab-df-convert:hover {\n",
              "      background-color: #E2EBFA;\n",
              "      box-shadow: 0px 1px 2px rgba(60, 64, 67, 0.3), 0px 1px 3px 1px rgba(60, 64, 67, 0.15);\n",
              "      fill: #174EA6;\n",
              "    }\n",
              "\n",
              "    .colab-df-buttons div {\n",
              "      margin-bottom: 4px;\n",
              "    }\n",
              "\n",
              "    [theme=dark] .colab-df-convert {\n",
              "      background-color: #3B4455;\n",
              "      fill: #D2E3FC;\n",
              "    }\n",
              "\n",
              "    [theme=dark] .colab-df-convert:hover {\n",
              "      background-color: #434B5C;\n",
              "      box-shadow: 0px 1px 3px 1px rgba(0, 0, 0, 0.15);\n",
              "      filter: drop-shadow(0px 1px 2px rgba(0, 0, 0, 0.3));\n",
              "      fill: #FFFFFF;\n",
              "    }\n",
              "  </style>\n",
              "\n",
              "    <script>\n",
              "      const buttonEl =\n",
              "        document.querySelector('#df-0b38844c-a6e3-4700-9007-f55f74d7f31d button.colab-df-convert');\n",
              "      buttonEl.style.display =\n",
              "        google.colab.kernel.accessAllowed ? 'block' : 'none';\n",
              "\n",
              "      async function convertToInteractive(key) {\n",
              "        const element = document.querySelector('#df-0b38844c-a6e3-4700-9007-f55f74d7f31d');\n",
              "        const dataTable =\n",
              "          await google.colab.kernel.invokeFunction('convertToInteractive',\n",
              "                                                    [key], {});\n",
              "        if (!dataTable) return;\n",
              "\n",
              "        const docLinkHtml = 'Like what you see? Visit the ' +\n",
              "          '<a target=\"_blank\" href=https://colab.research.google.com/notebooks/data_table.ipynb>data table notebook</a>'\n",
              "          + ' to learn more about interactive tables.';\n",
              "        element.innerHTML = '';\n",
              "        dataTable['output_type'] = 'display_data';\n",
              "        await google.colab.output.renderOutput(dataTable, element);\n",
              "        const docLink = document.createElement('div');\n",
              "        docLink.innerHTML = docLinkHtml;\n",
              "        element.appendChild(docLink);\n",
              "      }\n",
              "    </script>\n",
              "  </div>\n",
              "\n",
              "\n",
              "<div id=\"df-d4e2333b-b455-4aeb-bffd-6cef49cb7982\">\n",
              "  <button class=\"colab-df-quickchart\" onclick=\"quickchart('df-d4e2333b-b455-4aeb-bffd-6cef49cb7982')\"\n",
              "            title=\"Suggest charts\"\n",
              "            style=\"display:none;\">\n",
              "\n",
              "<svg xmlns=\"http://www.w3.org/2000/svg\" height=\"24px\"viewBox=\"0 0 24 24\"\n",
              "     width=\"24px\">\n",
              "    <g>\n",
              "        <path d=\"M19 3H5c-1.1 0-2 .9-2 2v14c0 1.1.9 2 2 2h14c1.1 0 2-.9 2-2V5c0-1.1-.9-2-2-2zM9 17H7v-7h2v7zm4 0h-2V7h2v10zm4 0h-2v-4h2v4z\"/>\n",
              "    </g>\n",
              "</svg>\n",
              "  </button>\n",
              "\n",
              "<style>\n",
              "  .colab-df-quickchart {\n",
              "      --bg-color: #E8F0FE;\n",
              "      --fill-color: #1967D2;\n",
              "      --hover-bg-color: #E2EBFA;\n",
              "      --hover-fill-color: #174EA6;\n",
              "      --disabled-fill-color: #AAA;\n",
              "      --disabled-bg-color: #DDD;\n",
              "  }\n",
              "\n",
              "  [theme=dark] .colab-df-quickchart {\n",
              "      --bg-color: #3B4455;\n",
              "      --fill-color: #D2E3FC;\n",
              "      --hover-bg-color: #434B5C;\n",
              "      --hover-fill-color: #FFFFFF;\n",
              "      --disabled-bg-color: #3B4455;\n",
              "      --disabled-fill-color: #666;\n",
              "  }\n",
              "\n",
              "  .colab-df-quickchart {\n",
              "    background-color: var(--bg-color);\n",
              "    border: none;\n",
              "    border-radius: 50%;\n",
              "    cursor: pointer;\n",
              "    display: none;\n",
              "    fill: var(--fill-color);\n",
              "    height: 32px;\n",
              "    padding: 0;\n",
              "    width: 32px;\n",
              "  }\n",
              "\n",
              "  .colab-df-quickchart:hover {\n",
              "    background-color: var(--hover-bg-color);\n",
              "    box-shadow: 0 1px 2px rgba(60, 64, 67, 0.3), 0 1px 3px 1px rgba(60, 64, 67, 0.15);\n",
              "    fill: var(--button-hover-fill-color);\n",
              "  }\n",
              "\n",
              "  .colab-df-quickchart-complete:disabled,\n",
              "  .colab-df-quickchart-complete:disabled:hover {\n",
              "    background-color: var(--disabled-bg-color);\n",
              "    fill: var(--disabled-fill-color);\n",
              "    box-shadow: none;\n",
              "  }\n",
              "\n",
              "  .colab-df-spinner {\n",
              "    border: 2px solid var(--fill-color);\n",
              "    border-color: transparent;\n",
              "    border-bottom-color: var(--fill-color);\n",
              "    animation:\n",
              "      spin 1s steps(1) infinite;\n",
              "  }\n",
              "\n",
              "  @keyframes spin {\n",
              "    0% {\n",
              "      border-color: transparent;\n",
              "      border-bottom-color: var(--fill-color);\n",
              "      border-left-color: var(--fill-color);\n",
              "    }\n",
              "    20% {\n",
              "      border-color: transparent;\n",
              "      border-left-color: var(--fill-color);\n",
              "      border-top-color: var(--fill-color);\n",
              "    }\n",
              "    30% {\n",
              "      border-color: transparent;\n",
              "      border-left-color: var(--fill-color);\n",
              "      border-top-color: var(--fill-color);\n",
              "      border-right-color: var(--fill-color);\n",
              "    }\n",
              "    40% {\n",
              "      border-color: transparent;\n",
              "      border-right-color: var(--fill-color);\n",
              "      border-top-color: var(--fill-color);\n",
              "    }\n",
              "    60% {\n",
              "      border-color: transparent;\n",
              "      border-right-color: var(--fill-color);\n",
              "    }\n",
              "    80% {\n",
              "      border-color: transparent;\n",
              "      border-right-color: var(--fill-color);\n",
              "      border-bottom-color: var(--fill-color);\n",
              "    }\n",
              "    90% {\n",
              "      border-color: transparent;\n",
              "      border-bottom-color: var(--fill-color);\n",
              "    }\n",
              "  }\n",
              "</style>\n",
              "\n",
              "  <script>\n",
              "    async function quickchart(key) {\n",
              "      const quickchartButtonEl =\n",
              "        document.querySelector('#' + key + ' button');\n",
              "      quickchartButtonEl.disabled = true;  // To prevent multiple clicks.\n",
              "      quickchartButtonEl.classList.add('colab-df-spinner');\n",
              "      try {\n",
              "        const charts = await google.colab.kernel.invokeFunction(\n",
              "            'suggestCharts', [key], {});\n",
              "      } catch (error) {\n",
              "        console.error('Error during call to suggestCharts:', error);\n",
              "      }\n",
              "      quickchartButtonEl.classList.remove('colab-df-spinner');\n",
              "      quickchartButtonEl.classList.add('colab-df-quickchart-complete');\n",
              "    }\n",
              "    (() => {\n",
              "      let quickchartButtonEl =\n",
              "        document.querySelector('#df-d4e2333b-b455-4aeb-bffd-6cef49cb7982 button');\n",
              "      quickchartButtonEl.style.display =\n",
              "        google.colab.kernel.accessAllowed ? 'block' : 'none';\n",
              "    })();\n",
              "  </script>\n",
              "</div>\n",
              "\n",
              "    </div>\n",
              "  </div>\n"
            ],
            "application/vnd.google.colaboratory.intrinsic+json": {
              "type": "dataframe"
            }
          },
          "metadata": {}
        }
      ]
    },
    {
      "cell_type": "markdown",
      "source": [
        "Como se mencionó en la introducción, nos interesa observar que tan equilibradas están las clases Benigno (B) y Maligno (M) para poder determinar como puede afectar el comportamiento de nuestro modelo. A continuación se muestra la distribución de las clases en el conjunto de datos:"
      ],
      "metadata": {
        "id": "9dzXdEeVVh23"
      },
      "id": "9dzXdEeVVh23"
    },
    {
      "cell_type": "code",
      "source": [
        "#Se cuentan cuantas ocurrencias hay por cada clase\n",
        "class_count = cancer_df['target'].value_counts()\n",
        "\n",
        "# Plot the pie chart\n",
        "class_count.plot.pie(y='target', figsize=(5, 5), autopct='%1.1f%%', colors=['#137B5C', '#EABD18'], labels=['Benigno (B)', 'Maligno (M)'])\n",
        "plt.title('Distribución de Clases')\n",
        "plt.ylabel('')\n",
        "plt.show()"
      ],
      "metadata": {
        "colab": {
          "base_uri": "https://localhost:8080/",
          "height": 444
        },
        "id": "cFoMBnfCWpQv",
        "outputId": "9e6cb73f-57ef-474d-c058-61ea733d1ad6"
      },
      "id": "cFoMBnfCWpQv",
      "execution_count": 22,
      "outputs": [
        {
          "output_type": "display_data",
          "data": {
            "text/plain": [
              "<Figure size 500x500 with 1 Axes>"
            ],
            "image/png": "[encoded data removed]"
          },
          "metadata": {}
        }
      ]
    },
    {
      "cell_type": "markdown",
      "source": [
        "Puede observarse claramente que existe un desequilibrio en el conjunto de datos favorable a la clase (B), esto puede generar problemas al momento de realizar predicciones sobre la clase (A) puesto que esta cuenta con una menor representación dentro del conjunto de datos.\n",
        "\n",
        "Antes de comenzar a trabajar con el modelo, vamos a preparar nuestro conjunto de datos para ser utilizados por el mismo, para esto vamos a separar la columna \"target\" de las demás, de esa forma se podrán usar estos valores como etiquetas de cada una de las columnas. Para eso se realiza lo siguiente:"
      ],
      "metadata": {
        "id": "I1YAlfUDZ2uZ"
      },
      "id": "I1YAlfUDZ2uZ"
    },
    {
      "cell_type": "code",
      "source": [
        "#División de los datos\n",
        "X = cancer_df.drop(['target'], axis=1)\n",
        "y = cancer_df['target']"
      ],
      "metadata": {
        "id": "mxMO_aX2cd45"
      },
      "id": "mxMO_aX2cd45",
      "execution_count": 7,
      "outputs": []
    },
    {
      "cell_type": "markdown",
      "source": [
        "A continuación, vamos a definir los conjuntos de entrenamiento y prueba, la proporción que usaremos para está separación será de un 70% datos de entrenamiento y un 30% datos para prueba."
      ],
      "metadata": {
        "id": "D5T5bQzAf3pT"
      },
      "id": "D5T5bQzAf3pT"
    },
    {
      "cell_type": "code",
      "source": [
        "X_train, X_test, y_train, y_test = train_test_split(X, y, test_size=0.3, random_state=SEED, stratify=y)"
      ],
      "metadata": {
        "id": "dd_-juN2f9Kb"
      },
      "id": "dd_-juN2f9Kb",
      "execution_count": 8,
      "outputs": []
    },
    {
      "cell_type": "markdown",
      "source": [
        "Por último, debemos normalizar nuestros conjuntos de datos."
      ],
      "metadata": {
        "id": "eEZeMhN9gnKK"
      },
      "id": "eEZeMhN9gnKK"
    },
    {
      "cell_type": "code",
      "source": [
        "# Normalización de los datos\n",
        "scaler = StandardScaler()\n",
        "X_train = scaler.fit_transform(X_train)\n",
        "X_test = scaler.transform(X_test)\n",
        "\n",
        "print(f\"Cantidad de datos de entrenamiento: {X_train.shape[0]}\")\n",
        "print(f\"Cantidad de datos de prueba: {X_test.shape[0]}\")"
      ],
      "metadata": {
        "colab": {
          "base_uri": "https://localhost:8080/"
        },
        "id": "ZWaQExx-gv19",
        "outputId": "8dd7ce75-e315-475e-ade8-732072f125fc"
      },
      "id": "ZWaQExx-gv19",
      "execution_count": 9,
      "outputs": [
        {
          "output_type": "stream",
          "name": "stdout",
          "text": [
            "Cantidad de datos de entrenamiento: 398\n",
            "Cantidad de datos de prueba: 171\n"
          ]
        }
      ]
    },
    {
      "cell_type": "markdown",
      "id": "3680dccf-3bd5-4e17-909d-35324cf73e7e",
      "metadata": {
        "jp-MarkdownHeadingCollapsed": true,
        "id": "3680dccf-3bd5-4e17-909d-35324cf73e7e"
      },
      "source": [
        "## Regresión Logística\n",
        "\n",
        "---\n",
        "\n",
        "Para asignar una clase a un tumor, dadas sus características, haremos uso del modelo [LogisticRegression](https://scikit-learn.org/stable/modules/generated/sklearn.linear_model.LogisticRegression.html)."
      ]
    },
    {
      "cell_type": "markdown",
      "source": [
        "### 1. Import"
      ],
      "metadata": {
        "id": "ukkqyk4kfCnZ"
      },
      "id": "ukkqyk4kfCnZ"
    },
    {
      "cell_type": "markdown",
      "source": [
        "Primero debemos importar el modelo, junto con las librerías necesarias para entrenarlo y también para evaluar su rendimiento."
      ],
      "metadata": {
        "id": "IPwSbt_bdnqJ"
      },
      "id": "IPwSbt_bdnqJ"
    },
    {
      "cell_type": "code",
      "source": [
        "#Import del modelo\n",
        "from sklearn.linear_model import LogisticRegression\n",
        "\n",
        "#Entrenamiento\n",
        "from sklearn.model_selection import GridSearchCV\n",
        "\n",
        "#Evaluación\n",
        "from sklearn.metrics import accuracy_score, confusion_matrix, classification_report, roc_curve, roc_auc_score, f1_score"
      ],
      "metadata": {
        "id": "0uv7ph5peDPM"
      },
      "id": "0uv7ph5peDPM",
      "execution_count": 10,
      "outputs": []
    },
    {
      "cell_type": "markdown",
      "id": "ec7c1683-25c8-4f0c-8dca-38378a3e7ae7",
      "metadata": {
        "id": "ec7c1683-25c8-4f0c-8dca-38378a3e7ae7"
      },
      "source": [
        "### 2. Métricas"
      ]
    },
    {
      "cell_type": "markdown",
      "id": "9a8f2ecf-9004-4c3b-aa53-04d696edd300",
      "metadata": {
        "id": "9a8f2ecf-9004-4c3b-aa53-04d696edd300"
      },
      "source": [
        "Antes de entrenar el modelo, debemos ajustar sus hiperparámetros para modificar su comportamiento y obtener el mejor rendimiento posible del mismo. En el caso de Regresión Logística, los hiperparámetros que debemos ajustar son los siguientes:\n",
        "\n",
        "* C: Establece la fuerza de regularización que se ejerce sobre los coeficientes de nuestro modelo.\n",
        "* penalty: Define que tipo de regularización se aplica al modelo.\n",
        "* solver: Especifica el algoritmo utilizado para optimizar la función de pérdida.\n",
        "* max_iter: Establece el máximo de iteraciones realizadas por el solver para converger."
      ]
    },
    {
      "cell_type": "code",
      "execution_count": 11,
      "id": "ad0afb09-6866-4252-b4cd-1f4fd66fd95a",
      "metadata": {
        "id": "ad0afb09-6866-4252-b4cd-1f4fd66fd95a"
      },
      "outputs": [],
      "source": [
        "# Colección de hiperparámetros que vamos a estimar\n",
        "param_grid = {\n",
        "    'C': [0.01, 0.05, 0.1, 0.5, 1],\n",
        "    'penalty': ['l1', 'l2'],\n",
        "    'solver': ['liblinear', 'saga']\n",
        "}"
      ]
    },
    {
      "cell_type": "markdown",
      "source": [
        "Para el entrenamiento del modelo se hará uso de validación cruzada mediante [GridSearchCV](https://scikit-learn.org/stable/modules/generated/sklearn.model_selection.GridSearchCV.html).\n",
        "\n",
        "Es importante recordar que la validación cruzada consiste en dividir los datos definidos para entrenamientos en K grupos, luego utilizar K-1 grupos para entrenar el modelo y el grupo restante para validar, posteriormente se repite este proceso hasta que todo el conjunto de datos haya sido usado para validación.\n",
        "\n",
        "Gracias a este proceso, nuestro modelo puede generalizar bien sobre datos que no son conocidos."
      ],
      "metadata": {
        "id": "vatCU0gyht_d"
      },
      "id": "vatCU0gyht_d"
    },
    {
      "cell_type": "code",
      "source": [
        "#Se procede a entrenar al modelo\n",
        "grid_search = GridSearchCV(LogisticRegression(max_iter=10000), param_grid, cv=5, scoring='accuracy')\n",
        "\n",
        "#Be quiet... Machine is Learning\n",
        "grid_search.fit(X_train, y_train)\n",
        "\n",
        "#Resultados\n",
        "print(f\"Mejores hiperparámetros: {grid_search.best_params_}\")\n",
        "print(f\"Mejor puntuación de validación cruzada: {grid_search.best_score_ * 100:.2f}%\")"
      ],
      "metadata": {
        "colab": {
          "base_uri": "https://localhost:8080/"
        },
        "id": "rJMgWKr1izQp",
        "outputId": "3438ba0b-aec1-4d37-eaaa-f7672d160a05"
      },
      "id": "rJMgWKr1izQp",
      "execution_count": 12,
      "outputs": [
        {
          "output_type": "stream",
          "name": "stdout",
          "text": [
            "Mejores hiperparámetros: {'C': 0.1, 'penalty': 'l2', 'solver': 'liblinear'}\n",
            "Mejor puntuación de validación cruzada: 98.24%\n"
          ]
        }
      ]
    },
    {
      "cell_type": "markdown",
      "source": [
        "### 3. Pruebas"
      ],
      "metadata": {
        "id": "mV7wDot9leaE"
      },
      "id": "mV7wDot9leaE"
    },
    {
      "cell_type": "markdown",
      "source": [
        "Una vez finalizado el ajuste de hiperparámetros, se almacena el modelo con mejor rendimiento obtenido:"
      ],
      "metadata": {
        "id": "PsLp6OYvlkr0"
      },
      "id": "PsLp6OYvlkr0"
    },
    {
      "cell_type": "code",
      "source": [
        "#Se guarda el modelo obtenido de GridSearchCV\n",
        "model_RL = grid_search.best_estimator_"
      ],
      "metadata": {
        "id": "1xyk9vudlzlD"
      },
      "id": "1xyk9vudlzlD",
      "execution_count": 13,
      "outputs": []
    },
    {
      "cell_type": "markdown",
      "source": [
        "Posteriormente se realizan predicciones sobre el conjunto de datos de prueba para así evaluar el rendimiento del modelo haciendo uso de las siguientes métricas:\n",
        "* Accuracy: También llamado precisión o exactitud, representa el porcentaje de predicciones acertadas.\n",
        "* Precision: Representa la proporción de predicciones positivas acertadas entre el total de predicciones positivas.\n",
        "* Recall: Conocido también como exhaustividad, mide la proporción de predicciones positivas identificadas, ya sean verdaderos positivos o falsos negativos.\n",
        "* F1 Score: Es la media armónica entre Precision y Recall, es una medida útil cuando no se esta seguro de que todas las clases tengan la misma cantidad de elementos.\n",
        "* Matriz de Confusión: Muestra el número de predicciones correctas e incorrectas del modelo, comparándolas con los valores reales.\n",
        "* Curva ROC: Nos muestra la relación entre el Recall (verdaderos positivos) y los falsos positivos para las diferentes clases. También representa la capacidad del modelo para discernir entre una clase u otra a medida que varía el umbral de clasificación.\n",
        "* El AUC, es el área bajo la curva ROC, evalúa la capacidad del modelo para distinguir entre las dos clases.\n"
      ],
      "metadata": {
        "id": "Bdm1Y-_lmKOA"
      },
      "id": "Bdm1Y-_lmKOA"
    },
    {
      "cell_type": "code",
      "source": [
        "#Primeras pruebas con el modelo\n",
        "start_time = time.time()\n",
        "y_pred = model_RL.predict(X_test)\n",
        "end_time = time.time()\n",
        "\n",
        "#Probabilidad de pertenecer a la clase positiva\n",
        "y_pred_proba = model_RL.predict_proba(X_test)[:, 1]"
      ],
      "metadata": {
        "id": "vErhsXwBm1vu"
      },
      "id": "vErhsXwBm1vu",
      "execution_count": 14,
      "outputs": []
    },
    {
      "cell_type": "markdown",
      "source": [
        "### 4. Resultados obtenidos"
      ],
      "metadata": {
        "id": "o4ey73fOo7mY"
      },
      "id": "o4ey73fOo7mY"
    },
    {
      "cell_type": "markdown",
      "source": [
        "En esta sección se muestran los valores obtenidos para algunas de las métricas antes mencionadas. Primero se muestra el tiempo de predicción obtenido:"
      ],
      "metadata": {
        "id": "zB_df1mapiVN"
      },
      "id": "zB_df1mapiVN"
    },
    {
      "cell_type": "code",
      "source": [
        "#Tiempo de predicción\n",
        "prediction_time = end_time - start_time\n",
        "print(f\"Tiempo de predicción: {prediction_time:.5f} segundos\")"
      ],
      "metadata": {
        "colab": {
          "base_uri": "https://localhost:8080/"
        },
        "id": "LN6dfXmCpBC9",
        "outputId": "b14b7c5f-b20e-429a-acf4-dd3df7f0088d"
      },
      "id": "LN6dfXmCpBC9",
      "execution_count": 15,
      "outputs": [
        {
          "output_type": "stream",
          "name": "stdout",
          "text": [
            "Tiempo de predicción: 0.00042 segundos\n"
          ]
        }
      ]
    },
    {
      "cell_type": "markdown",
      "source": [
        "Luego podemos ver el puntaje obtenido de Accuracy y también el F1 Score:"
      ],
      "metadata": {
        "id": "GvKDW3S2pIkT"
      },
      "id": "GvKDW3S2pIkT"
    },
    {
      "cell_type": "code",
      "source": [
        "print(f\"Exactitud: {accuracy_score(y_test, y_pred) * 100:.2f}%\")\n",
        "print(f\"F1 Score: {f1_score(y_test, y_pred) * 100:.2f}%\")"
      ],
      "metadata": {
        "colab": {
          "base_uri": "https://localhost:8080/"
        },
        "id": "AdUPnkcVpQyA",
        "outputId": "307e0ae8-6a98-4014-b4bd-32c028bd1632"
      },
      "id": "AdUPnkcVpQyA",
      "execution_count": 16,
      "outputs": [
        {
          "output_type": "stream",
          "name": "stdout",
          "text": [
            "Exactitud: 98.83%\n",
            "F1 Score: 99.06%\n"
          ]
        }
      ]
    },
    {
      "cell_type": "markdown",
      "source": [
        "Además se muestra la matriz de confusión asociada a la predicción:"
      ],
      "metadata": {
        "id": "jwpCKOkCqisQ"
      },
      "id": "jwpCKOkCqisQ"
    },
    {
      "cell_type": "code",
      "source": [
        "#Matrix de confusión\n",
        "conf_matrix = confusion_matrix(y_test, y_pred)\n",
        "sns.heatmap(conf_matrix, annot=True, fmt='d', cmap='PuBuGn', xticklabels=['Maligno (M)', 'Benigno (B)'], yticklabels=['Maligno (M)', 'Benigno (B)'])\n",
        "plt.xlabel('Predicción')\n",
        "plt.ylabel('Real')\n",
        "plt.title('Matriz de Confusión')\n",
        "plt.show()"
      ],
      "metadata": {
        "colab": {
          "base_uri": "https://localhost:8080/",
          "height": 472
        },
        "id": "Z8Tw701yqIh4",
        "outputId": "04016491-6865-410c-96a8-efb5b49a6cf0"
      },
      "id": "Z8Tw701yqIh4",
      "execution_count": 17,
      "outputs": [
        {
          "output_type": "display_data",
          "data": {
            "text/plain": [
              "<Figure size 640x480 with 2 Axes>"
            ],
            "image/png": "[encoded data removed]"
          },
          "metadata": {}
        }
      ]
    },
    {
      "cell_type": "markdown",
      "source": [
        "También se muestra la curva ROC junto al correspondiente valor de AUC:"
      ],
      "metadata": {
        "id": "By8ioUkgrJM9"
      },
      "id": "By8ioUkgrJM9"
    },
    {
      "cell_type": "code",
      "source": [
        "#Curva ROC y AUC\n",
        "fpr, tpr, thresholds = roc_curve(y_test, y_pred_proba)\n",
        "auc = roc_auc_score(y_test, y_pred_proba)\n",
        "\n",
        "#Visualización\n",
        "plt.plot(fpr, tpr, color='teal', label=f'AUC = {auc:.4f}')\n",
        "plt.plot([0, 1], [0, 1], linestyle='dotted', color='gray')\n",
        "plt.xlabel('Tasa de Falsos Positivos (FPR)')\n",
        "plt.ylabel('Tasa de Verdaderos Positivos (TPR)')\n",
        "plt.title('Curva ROC')\n",
        "plt.legend()\n",
        "plt.show()"
      ],
      "metadata": {
        "colab": {
          "base_uri": "https://localhost:8080/",
          "height": 472
        },
        "id": "uPmYT88Qr6H2",
        "outputId": "b3499d8a-26b8-49ef-8413-1ed4588c3df2"
      },
      "id": "uPmYT88Qr6H2",
      "execution_count": 18,
      "outputs": [
        {
          "output_type": "display_data",
          "data": {
            "text/plain": [
              "<Figure size 640x480 with 1 Axes>"
            ],
            "image/png": "[encoded data removed]"
          },
          "metadata": {}
        }
      ]
    },
    {
      "cell_type": "markdown",
      "id": "488b03db-81dd-423f-bfe5-89e7cb816480",
      "metadata": {
        "jp-MarkdownHeadingCollapsed": true,
        "id": "488b03db-81dd-423f-bfe5-89e7cb816480"
      },
      "source": [
        "## Preguntas finales\n",
        "\n",
        "---\n",
        "\n",
        "En esta sección se darán respuestas a las preguntas dejadas al final del enunciado correspondiente a la tarea 2."
      ]
    },
    {
      "cell_type": "markdown",
      "id": "986c8923-bc8d-4617-b733-4d97c3ee80c3",
      "metadata": {
        "id": "986c8923-bc8d-4617-b733-4d97c3ee80c3"
      },
      "source": [
        "### 1. Si tuviesen que seleccionar de un universo de N mujeres, k mujeres de tal manera que las mujeres representen los datos disponibles. Como harían?"
      ]
    },
    {
      "cell_type": "markdown",
      "source": [],
      "metadata": {
        "id": "6uXOaqpzwUrk"
      },
      "id": "6uXOaqpzwUrk"
    },
    {
      "cell_type": "markdown",
      "id": "a161504b-6eba-4180-b728-2adb73185f35",
      "metadata": {
        "id": "a161504b-6eba-4180-b728-2adb73185f35"
      },
      "source": [
        "### 2. El jefe de IT del hospital quisiera tener a la mano una implementacion del algoritmo de Curvas ROC y además de la metrica de área debajo de la curva."
      ]
    },
    {
      "cell_type": "markdown",
      "source": [
        "Ver sección 4 dentro de Regresión Logística."
      ],
      "metadata": {
        "id": "aWQbeFtiwV9X"
      },
      "id": "aWQbeFtiwV9X"
    },
    {
      "cell_type": "markdown",
      "id": "53a5137f-7d94-4652-a0ff-675e13e70437",
      "metadata": {
        "jp-MarkdownHeadingCollapsed": true,
        "id": "53a5137f-7d94-4652-a0ff-675e13e70437"
      },
      "source": [
        "### 3. ¿Como afecta el balance de clases al modelo?"
      ]
    },
    {
      "cell_type": "markdown",
      "source": [
        "Se tiende a producir una preferencia hacia la clase mayoritaria, ya que, al tener más representación dentro del conjunto de datos, resulta más cómodo siempre asignar esta clase al momento de predecir de fomra que se maximice el accuracy. Sin embargo esto no es útil puesto que nos interesa que el modelo sea capaz de asignar correctamente en cualquiera de las 2 clases disponibles, no solo la mayoritaria.\n",
        "\n",
        "Además de eso se genera una desventaja con respecto al aprendizaje para la clase minoritaria, ya que el modelo cuenta con menos oportunidades de aprender las características que la representan."
      ],
      "metadata": {
        "id": "6UIhdJffwXRV"
      },
      "id": "6UIhdJffwXRV"
    },
    {
      "cell_type": "markdown",
      "id": "e91ed40f-c1dc-4a10-a9f5-9c6ead1407e2",
      "metadata": {
        "id": "e91ed40f-c1dc-4a10-a9f5-9c6ead1407e2"
      },
      "source": [
        "### 4. ¿Por qué es importante usar AUC y F1-Score además de la exactitud?"
      ]
    },
    {
      "cell_type": "markdown",
      "id": "50d7cd30-34fc-4a74-b673-841cfebf2fda",
      "metadata": {
        "id": "50d7cd30-34fc-4a74-b673-841cfebf2fda"
      },
      "source": [
        "El AUC y F1 Score son de vital importancia ya que ofrecen una medición más completa acerca del comportamiento de nuestro modelo en comparación a la exactitud. Si bien es importante tener siempre en cuenta la exactitud, en casos como el actual, donde los datos tienen un desbalance notable, esta métrica pierde un poco de credibilidad.\n",
        "\n",
        "Por ejemplo, si se tiene un conjunto de datos dividos en 2 clases y un 95% de los datos pertenecen a la clase A y el resto a la clase B, un modelo que sesgado hacía la clase A siempre tendrá una mayor exactitud, sin embargo no va a generalizar bien al momento de clasificar un nuevo dato.\n",
        "\n",
        "El F1 Score nos da una visión mas equilibrada de como el modelo indetifica las instancias verdaderamente positivas y negativas dentro de un conjunto de datos.\n",
        "\n",
        "Fl AUC, al igual que el F1 Score, nos permite tener una visión mas detallada de la clasificación realizada por nuestro modelo, ya que evalúa su capacidad para decidirse por una clase."
      ]
    }
  ],
  "metadata": {
    "kernelspec": {
      "display_name": "Python 3",
      "name": "python3"
    },
    "language_info": {
      "codemirror_mode": {
        "name": "ipython",
        "version": 3
      },
      "file_extension": ".py",
      "mimetype": "text/x-python",
      "name": "python",
      "nbconvert_exporter": "python",
      "pygments_lexer": "ipython3",
      "version": "3.10.6"
    },
    "colab": {
      "provenance": [],
      "gpuType": "V28",
      "include_colab_link": true
    },
    "accelerator": "TPU"
  },
  "nbformat": 4,
  "nbformat_minor": 5
}