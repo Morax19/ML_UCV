{
  "cells": [
    {
      "cell_type": "markdown",
      "metadata": {
        "id": "view-in-github",
        "colab_type": "text"
      },
      "source": [
        "<a href=\"https://colab.research.google.com/github/Morax19/ML_UCV/blob/main/Tarea2/Tarea2_ML_DanielHernandez_Parte1_B.ipynb\" target=\"_parent\"><img src=\"https://colab.research.google.com/assets/colab-badge.svg\" alt=\"Open In Colab\"/></a>"
      ]
    },
    {
      "cell_type": "markdown",
      "metadata": {
        "id": "koOsihG3Iv_p"
      },
      "source": [
        "\n",
        "\n",
        "TAREA 2: APRENDIZAJE SUPERVISADO<br>\n",
        "Aprendizaje Automático, Escuela de Computación, Facultad de Ciencias - UCV\n",
        "<br>\n",
        "<br>\n",
        "#Parte 2: Reconocimiento de Operadores\n",
        "<br>\n",
        "<br>\n",
        "Autor: Daniel Hernández<br>\n",
        "Fecha: 15 de Febrero 2025\n",
        "\n"
      ]
    },
    {
      "cell_type": "markdown",
      "metadata": {
        "id": "BmTu2kJm9U4A"
      },
      "source": [
        "## Introducción\n",
        "\n",
        "---\n",
        "\n",
        "La función principal de este notebook es hacer uso de 3 modelos de Aprendizaje Automático con el objetivo de reconocer de operadores matemáticos escritos a mano, cada modelo tendrá su sección correspondiente con cada paso realizado debidamente justificado, para finalizar, se hará una comparación entre diferentes métricas que nos den permitan medir el rendimiento de cada modelo.\n",
        "\n",
        "En esta sección se muestran los pasos iniciales tales como la importación de librerías, descarga y pre-procesamiento del conjunto de datos.\n"
      ]
    },
    {
      "cell_type": "markdown",
      "metadata": {
        "id": "xyib2Fg63_U1"
      },
      "source": [
        "### Configuración del entorno"
      ]
    },
    {
      "cell_type": "markdown",
      "metadata": {
        "id": "wvt9q9FqG9Rw"
      },
      "source": [
        "Lo primero que se define es el valor de la semilla a utilizar a lo largo del notebook, con la finalidad de poder reproducir los resultados."
      ]
    },
    {
      "cell_type": "code",
      "source": [
        "#El valor de la semilla viene definido previamente\n",
        "SEED = 27795163"
      ],
      "metadata": {
        "id": "BYi0sQ23eLgW"
      },
      "execution_count": 1,
      "outputs": []
    },
    {
      "cell_type": "markdown",
      "source": [
        "Se importan las librerias necesarias:"
      ],
      "metadata": {
        "id": "Tt7RUZcTeMp-"
      }
    },
    {
      "cell_type": "code",
      "execution_count": 2,
      "metadata": {
        "id": "jQpDWta8-djY"
      },
      "outputs": [],
      "source": [
        "import time\n",
        "import numpy as np\n",
        "import seaborn as sns\n",
        "import matplotlib.pyplot as plt\n",
        "from sklearn.metrics import accuracy_score, confusion_matrix\n",
        "from sklearn.model_selection import cross_validate, train_test_split, GridSearchCV"
      ]
    },
    {
      "cell_type": "markdown",
      "metadata": {
        "id": "T4LV-O5S2-KN"
      },
      "source": [
        "### Pre-procesamiento\n"
      ]
    },
    {
      "cell_type": "markdown",
      "metadata": {
        "id": "e1bSiAG1Gdbf"
      },
      "source": [
        "Para este notebook, lo primero que se hizo fue construir el conjunto de datos, para esto se hizo uso de la aplicación [MediBang Paint](https://medibangpaint.com/es/). Dado que en la parte anterior se trabajó con MNIST, se intentó construir un conjunto de datos que siguiera los mismos estándares de forma que se maximice la consistencia, en ese orden de ideas, se realizaron imágenes de dimensiones 28 píxeles de alto y largo, con un fondo negro y operadores trazados en blanco.\n",
        "\n",
        "El resultado es el [Dataset Operadores](https://github.com/HandlessCoder/Dataset_Operadores_28x28/), el cual contiene imágenes correspondientes a los siguientes operadores matemáticos:\n",
        "* Suma (+)\n",
        "* Resta (-)\n",
        "* Multiplicación (*) (×)\n",
        "* División (/) (÷)"
      ]
    },
    {
      "cell_type": "markdown",
      "source": [
        "#### Import de los datos"
      ],
      "metadata": {
        "id": "je_kt5a9utlM"
      }
    },
    {
      "cell_type": "markdown",
      "source": [
        "Lo primero que debemos hacer es clonar el repositorio donde se encuentran las imágenes que vamos a utilizar."
      ],
      "metadata": {
        "id": "55HVbP4jvzr3"
      }
    },
    {
      "cell_type": "code",
      "execution_count": 3,
      "metadata": {
        "id": "AfNd-TGIGz9o",
        "colab": {
          "base_uri": "https://localhost:8080/"
        },
        "outputId": "d08e568e-dfbf-4b65-c86b-d66aa27e4eeb"
      },
      "outputs": [
        {
          "output_type": "stream",
          "name": "stdout",
          "text": [
            "fatal: destination path 'Dataset_Operadores_28x28' already exists and is not an empty directory.\n"
          ]
        }
      ],
      "source": [
        "!git clone https://github.com/HandlessCoder/Dataset_Operadores_28x28.git"
      ]
    },
    {
      "cell_type": "markdown",
      "source": [
        "Como paso siguiente, navegaremos a la rama donde se encuentran las imágenes correspondientes a los operadores."
      ],
      "metadata": {
        "id": "NvS2ZkcFxiTS"
      }
    },
    {
      "cell_type": "code",
      "source": [
        "%cd Dataset_Operadores_28x28/"
      ],
      "metadata": {
        "colab": {
          "base_uri": "https://localhost:8080/"
        },
        "id": "dZN2Nb2-wPGT",
        "outputId": "12e8c7a2-6e28-4edd-b2ef-1ec167ab815e"
      },
      "execution_count": 4,
      "outputs": [
        {
          "output_type": "stream",
          "name": "stdout",
          "text": [
            "/content/Dataset_Operadores_28x28\n"
          ]
        }
      ]
    },
    {
      "cell_type": "code",
      "source": [
        "!git checkout prueba"
      ],
      "metadata": {
        "colab": {
          "base_uri": "https://localhost:8080/"
        },
        "id": "Xhy5X_BSWTop",
        "outputId": "0e7c5b7b-82d6-43e1-b108-cedc80f9522a"
      },
      "execution_count": 5,
      "outputs": [
        {
          "output_type": "stream",
          "name": "stdout",
          "text": [
            "Switched to branch 'prueba'\n",
            "Your branch is up to date with 'origin/prueba'.\n"
          ]
        }
      ]
    },
    {
      "cell_type": "markdown",
      "source": [
        "#### Armado del Dataset"
      ],
      "metadata": {
        "id": "qfcIulITK_Z3"
      }
    },
    {
      "cell_type": "markdown",
      "source": [
        "Procedemos entonces a cargar todas las imágenes a nuestro notebook, para esto primero se hace import del módulo [os](https://docs.python.org/es/3.10/library/os.html) y se define la función load_images."
      ],
      "metadata": {
        "id": "QuMlBgW7yaNt"
      }
    },
    {
      "cell_type": "code",
      "source": [
        "import os\n",
        "from PIL import Image\n",
        "\n",
        "def load_images(root, label):\n",
        "    images = []\n",
        "    labels = []\n",
        "\n",
        "    for filename in os.listdir(root):\n",
        "        img = Image.open(os.path.join(root, filename)).convert(\"L\")\n",
        "        img = img.resize((28, 28))  #Se asegura que cada imagen tenga las dimensiones adecuadas\n",
        "        img_np = np.array(img)  #Se lleva la imagen a un arregla de NumPy\n",
        "        images.append(img_np)\n",
        "        labels.append(label)\n",
        "    return np.array(images), np.array(labels)"
      ],
      "metadata": {
        "id": "Hg6XABleyco8"
      },
      "execution_count": 6,
      "outputs": []
    },
    {
      "cell_type": "markdown",
      "source": [
        "Posteriormente se tiene:"
      ],
      "metadata": {
        "id": "u8Z_x5wz2Cnk"
      }
    },
    {
      "cell_type": "code",
      "source": [
        "#Se define la ruta donde están las imagenes de operadores\n",
        "root = \"/content/Dataset_Operadores_28x28/\"\n",
        "\n",
        "#Dado que cada operador tiene una carpeta con las imágenes correspondientes, se cargan por separado\n",
        "\n",
        "img_suma, label_suma = load_images(root+\"Suma\", ord('+'))               #Suma\n",
        "img_resta, label_resta = load_images(root+\"Resta\", ord('-'))            #Resta\n",
        "img_div1, label_div1 = load_images(root+\"Division1\", ord('/'))          #División1 -> /\n",
        "img_div2, label_div2 = load_images(root+\"Division2\", ord('÷'))          #División2 -> ÷\n",
        "img_mult1, label_mult1 = load_images(root+\"Multiplicacion1\", ord('*'))  #Multiplicación1 -> *\n",
        "img_mult2, label_mult2 = load_images(root+\"Multiplicacion2\", ord('×'))  #Multiplicación2 -> ×\n",
        "\n",
        "#Para armar el conjunto de datos, se concatenan las imagenes y sus respectivas etiquetas\n",
        "img_total = np.concatenate((img_suma, img_resta, img_div1, img_div2, img_mult1, img_mult2), axis = 0)\n",
        "label_total = np.concatenate((label_suma, label_resta, label_div1, label_div2, label_mult1, label_mult2), axis = 0)"
      ],
      "metadata": {
        "id": "GKK6oMl92L9W"
      },
      "execution_count": 7,
      "outputs": []
    },
    {
      "cell_type": "markdown",
      "metadata": {
        "id": "-Bp9kYwfIv_8"
      },
      "source": [
        "Es necesario separar los datos en grupos de entrenamiento y prueba, en nuestro caso se hará uso de un 80% entrenamiento y un 20% prueba.\n",
        "\n",
        "Adicional a esto, es necesario vectorizar los valores en X, es decir, aplanar las imágenes originales en un vector de 784 elementos y normalizar sus valores para poder trabajar con los mismos."
      ]
    },
    {
      "cell_type": "code",
      "execution_count": 8,
      "metadata": {
        "colab": {
          "base_uri": "https://localhost:8080/"
        },
        "id": "kB81UUvXIv_9",
        "outputId": "2de83c4c-4203-4cc8-86ed-fa6a35e7a72e"
      },
      "outputs": [
        {
          "output_type": "stream",
          "name": "stdout",
          "text": [
            "Cantidad de imágenes para entrenamiento: 562\n",
            "Cantidad de imágenes de prueba: 63\n"
          ]
        }
      ],
      "source": [
        "#Se separan los datos de entrenamiento y prueba\n",
        "X_train, X_test, y_train, y_test = train_test_split(img_total, label_total, test_size = 0.1, random_state = SEED)\n",
        "\n",
        "#Se vectorizan las imágenes almacenadas en X\n",
        "X_train = X_train.reshape(X_train.shape[0], 28 * 28)\n",
        "X_test = X_test.reshape(X_test.shape[0], 28 * 28)\n",
        "\n",
        "#Se normalizan los valores X\n",
        "X_train = X_train / 255.0\n",
        "X_test = X_test / 255.0\n",
        "\n",
        "#Finalmente, podemos tener una vista previa de los datos con los que vamos a trabajar\n",
        "print(f\"Cantidad de imágenes para entrenamiento: {X_train.shape[0]}\")\n",
        "print(f\"Cantidad de imágenes de prueba: {X_test.shape[0]}\")"
      ]
    },
    {
      "cell_type": "markdown",
      "metadata": {
        "id": "nrwp8I6w7Mj7"
      },
      "source": [
        "##   1. Regresión Logística\n",
        "\n",
        "Nuestro objetivo principal es, dada una imagen, determinar a que operador matemático corresponde la misma. Es por esto que nos encontramos ante un problema de clasificación, para resolcerlo, el primer modelo que vamos a utilizar será [LogisticRegression](https://scikit-learn.org/stable/modules/generated/sklearn.linear_model.LogisticRegression.html) el cual nos va a permitir clasificar la imagen vista según una probabilidad calculada.\n",
        "\n",
        "---\n",
        "\n"
      ]
    },
    {
      "cell_type": "markdown",
      "metadata": {
        "id": "dvEUTYahIv_x"
      },
      "source": [
        "### 1.1. Import"
      ]
    },
    {
      "cell_type": "markdown",
      "metadata": {
        "id": "FT2E9_XJThUn"
      },
      "source": [
        "Se importa el modelo desde SciKitLearn"
      ]
    },
    {
      "cell_type": "code",
      "execution_count": 9,
      "metadata": {
        "id": "VNGhPBaUIv_z"
      },
      "outputs": [],
      "source": [
        "from sklearn.linear_model import LogisticRegression"
      ]
    },
    {
      "cell_type": "markdown",
      "metadata": {
        "id": "UfWYhVDvIv__"
      },
      "source": [
        "### 1.2.  Métricas"
      ]
    },
    {
      "cell_type": "markdown",
      "metadata": {
        "id": "C82V1MW-Lgnu"
      },
      "source": [
        "Es importante que conozcamos los hiperparámetros del modelo que vamos a utilizar, ya que ajustar estos nos va a permitir modificar su comportamiento y obtener el mejor rendimiento posible del mismo.\n",
        "\n",
        "Antes de continuar, es importante que definamos:\n",
        "\n",
        "* Regularización: Consiste en añadir ruido a los coeficientes de nuestro modelo con la finalidad de evitar el sobreajuste, es decir, que se memoricen los datos en lugar de aprenderlos. Esto ayuda a que nuestro modelo se ajuste mejor a datos que aún le son desconocidos.\n",
        "\n",
        "Teniendo esto claro, los hiperparámetros que debemos ajustar para el modelo de Regresión Logística son los siguientes:\n",
        "\n",
        "* C: Establece la fuerza de regularización que se ejerce sobre los coeficientes de nuestro modelo.\n",
        "* penalty: Define que tipo de regularización se aplica al modelo.\n",
        "* solver: Especifica el algoritmo utilizado para optimizar la función de pérdida.\n",
        "* max_iter: Establece el máximo de iteraciones realizadas por el solver para converger."
      ]
    },
    {
      "cell_type": "code",
      "execution_count": 10,
      "metadata": {
        "id": "zYlXzVOuBYeM"
      },
      "outputs": [],
      "source": [
        "#Se usa este objeto para definir los posibles valores de cada hiperparámetro\n",
        "param_grid_LR = {\n",
        "    'C': [0.001, 0.01, 0.1, 1, 10, 100],\n",
        "    'penalty': ['l2'],\n",
        "    'solver': ['lbfgs', 'newton-cg']\n",
        "}"
      ]
    },
    {
      "cell_type": "markdown",
      "metadata": {
        "id": "yS6HtI5qBchG"
      },
      "source": [
        "Previo al entrenamiento del modelo debemos definir lo que es la validación cruzada, proceso que consiste en dividir los datos definidos para entrenamientos en K grupos, luego se utilizan K-1 grupos para entrenar el modelo y el grupo restante para validación, cabe destacar que este proceso se repite para todas las combinaciones posibles de los K grupos.\n",
        "\n",
        "La importancia de hacer esto radica en lograr que nuestro modelo generalice correctamente y tenga un buen rendimiento sobre datos que le son desconocidos.\n",
        "\n",
        "Para tener una idea del rendimiento de nuestro modelo, haremos uso de las siguientes métricas:\n",
        "\n",
        "* Accuracy: También llamado precisión o exactitud, representa el porcentaje de predicciones acertadas.\n",
        "* Precision: Representa la proporción de predicciones positivas acertadas entre el total de predicciones positivas.\n",
        "* Recall: Conocido también como exhaustividad, mide la proporción de predicciones positivas identificadas, ya sean verdaderos positivos o falsos negativos.\n",
        "* F1 Score: Es la media armónica entre Precision y Recall, es una medida útil cuando no se esta seguro de que todas las clases tengan la misma cantidad de elementos."
      ]
    },
    {
      "cell_type": "markdown",
      "metadata": {
        "id": "cyrBmv6kBi6Z"
      },
      "source": [
        "Se hace uso de GridSearchCV para estimación de parámetros y cálculo de scores en validación cruzada"
      ]
    },
    {
      "cell_type": "code",
      "execution_count": 11,
      "metadata": {
        "colab": {
          "base_uri": "https://localhost:8080/"
        },
        "id": "XwxNA68T7_UW",
        "outputId": "62a67d01-21a8-4fdf-fba9-191e0c7be561"
      },
      "outputs": [
        {
          "output_type": "stream",
          "name": "stdout",
          "text": [
            "Resultados obtenidos:\n",
            "Hiperparámetros encontrados: {'C': 1, 'penalty': 'l2', 'solver': 'lbfgs'}\n",
            "\n",
            "Métricas del modelo:\n",
            "Accuracy: 90.57%\n"
          ]
        }
      ],
      "source": [
        "#Se calculan diferentes metricas para medir el rendimiento del modelo\n",
        "grid_search_LR = GridSearchCV(LogisticRegression(max_iter = 10000), param_grid_LR, cv = 5, scoring = 'accuracy')\n",
        "\n",
        "#Do not disturb... Machine is Learning\n",
        "grid_search_LR.fit(X_train, y_train)\n",
        "\n",
        "#Resultados\n",
        "print(f\"Resultados obtenidos:\")\n",
        "print(f\"Hiperparámetros encontrados: {grid_search_LR.best_params_}\\n\")\n",
        "\n",
        "print(f\"Métricas del modelo:\")\n",
        "print(f\"Accuracy: {grid_search_LR.best_score_ * 100:.2f}%\")"
      ]
    },
    {
      "cell_type": "markdown",
      "metadata": {
        "id": "FPLArrwLArXM"
      },
      "source": [
        "Resultados obtenidos:"
      ]
    },
    {
      "cell_type": "markdown",
      "metadata": {
        "id": "pOlHUlbkX4bu"
      },
      "source": [
        "### 1.3. Pruebas"
      ]
    },
    {
      "cell_type": "markdown",
      "metadata": {
        "id": "QioYTPnFZaBz"
      },
      "source": [
        "Se obtiene el mejor modelo y se utiliza el conjunto de datos de prueba para realizar predicciones con el fin observar su comportamiento."
      ]
    },
    {
      "cell_type": "code",
      "execution_count": 12,
      "metadata": {
        "id": "3TNghoSKbxKG"
      },
      "outputs": [],
      "source": [
        "#Se guarda el mejor modelo obtenido de GridSearchCV()\n",
        "modelLR = grid_search_LR.best_estimator_\n",
        "\n",
        "#Primeras pruebas con el modelo\n",
        "start_time_LR = time.time()\n",
        "y_pred_LR = modelLR.predict(X_test)\n",
        "end_time_LR = time.time()\n",
        "\n",
        "#Tiempo que toma realizar una predicción\n",
        "pred_time_LR = end_time_LR - start_time_LR\n",
        "\n",
        "#Se calcula la precisión obtenida\n",
        "acc_pred_LR = accuracy_score(y_test, y_pred_LR)\n",
        "\n",
        "#Se calcula la matriz de confusión asociada\n",
        "conf_matrix_LR = confusion_matrix(y_test, y_pred_LR)"
      ]
    },
    {
      "cell_type": "markdown",
      "source": [
        "Resultados obtenidos:"
      ],
      "metadata": {
        "id": "G3MAAGHed44w"
      }
    },
    {
      "cell_type": "code",
      "source": [
        "print(f\"Predicciones: {y_pred_LR}\\nValores Reales: {y_test}\\n\")\n",
        "print(f\"Precisión de la predicción: {acc_pred_LR * 100:.2f}%\")"
      ],
      "metadata": {
        "colab": {
          "base_uri": "https://localhost:8080/"
        },
        "id": "VKPitgxPd2MC",
        "outputId": "86a6b35d-77e1-4685-d26e-b2a0369f927c"
      },
      "execution_count": 13,
      "outputs": [
        {
          "output_type": "stream",
          "name": "stdout",
          "text": [
            "Predicciones: [ 43  42  45  42  45  45 215  42  47 215  47  42  43 247  42 215  47  43\n",
            "  43  47  47  43  43 247  45  47  47  45  47  43  43  42  43  43  42  45\n",
            "  42 247  42 247  47  45  45  42 215 215  47 247  45  43  45 215 247  45\n",
            "  42  45  42  47  47  47  45  47  43]\n",
            "Valores Reales: [ 43  42  45  42  45  45 215  42  47 215  47  42  43 247  42 215  47  43\n",
            "  43  45  47  43  43 247  45 215  47  45  47  43  43  42  43  43  42  45\n",
            "  42 247  42 247 215  45  45  42 215 215  47 247  45  43  45 215 247  42\n",
            "  42 215  42  47  47  47  45  47  43]\n",
            "\n",
            "Precisión de la predicción: 92.06%\n"
          ]
        }
      ]
    },
    {
      "cell_type": "markdown",
      "metadata": {
        "id": "ewTITs0yYsZP"
      },
      "source": [
        "### 1.4. Resultados generales"
      ]
    },
    {
      "cell_type": "markdown",
      "metadata": {
        "id": "EN4csAOdg8qL"
      },
      "source": [
        "A continuación se muestra la matriz de confusión correspondiente al modelo, usando esta herramienta resulta más intutivo entender los resultados obtenidos.\n",
        "\n",
        "La diagonal principal nos muestra las predicciones acertadas por cada operador, mientras que las demás celdas indican la cantidad de veces que se obtuvo como resultado de la predicción uno diferente al correcto."
      ]
    },
    {
      "cell_type": "code",
      "execution_count": 14,
      "metadata": {
        "colab": {
          "base_uri": "https://localhost:8080/",
          "height": 0
        },
        "id": "9JZBwU1XiGor",
        "outputId": "7d02a23c-c308-405d-e69c-2fb7dab9b4cd"
      },
      "outputs": [
        {
          "output_type": "display_data",
          "data": {
            "text/plain": [
              "<Figure size 900x900 with 2 Axes>"
            ],
            "image/png": "[encoded data removed]"
          },
          "metadata": {}
        }
      ],
      "source": [
        "plt.figure(figsize = (9, 9))\n",
        "\n",
        "sns.heatmap(\n",
        "    conf_matrix_LR, annot = True,\n",
        "    fmt = 'd',\n",
        "    cmap = 'PuBuGn',\n",
        "    xticklabels = ['+', '-', '/', '÷', '*', '×'],\n",
        "    yticklabels = ['+', '-', '/', '÷', '*', '×']\n",
        "    )\n",
        "\n",
        "plt.title('Matriz de Confusión')\n",
        "plt.xlabel('Predicciones')\n",
        "plt.ylabel('Valores Reales')\n",
        "plt.show()"
      ]
    },
    {
      "cell_type": "markdown",
      "metadata": {
        "id": "n4sZqqCfg_Wj"
      },
      "source": [
        "Por último, se selecciona una muestra aleatoria de 8 imágenes de entre el conjunto de prueba y se muestran los valores de predicción del modelo junto al valor real correspondiente."
      ]
    },
    {
      "cell_type": "code",
      "execution_count": 15,
      "metadata": {
        "colab": {
          "base_uri": "https://localhost:8080/",
          "height": 0
        },
        "id": "NIeW2vo7ceON",
        "outputId": "e573797c-ee00-457c-87f8-c0768e2250d2"
      },
      "outputs": [
        {
          "output_type": "display_data",
          "data": {
            "text/plain": [
              "<Figure size 2000x1000 with 8 Axes>"
            ],
            "image/png": "[encoded data removed]"
          },
          "metadata": {}
        }
      ],
      "source": [
        "samples = 8\n",
        "samples_index = np.random.choice(len(X_test), samples, replace = False)\n",
        "\n",
        "plt.figure(figsize=(20, 10))\n",
        "\n",
        "for i, index in enumerate(samples_index):\n",
        "    plt.subplot(1, samples, i + 1)\n",
        "    plt.imshow(X_test[index].reshape(28, 28), cmap = 'gray')\n",
        "    plt.title(f\"Predicción: {chr(y_pred_LR[index])}\\nValor real: {chr(y_test[index])}\")\n",
        "    plt.axis('off')\n",
        "\n",
        "plt.tight_layout()\n",
        "plt.show()"
      ]
    },
    {
      "cell_type": "markdown",
      "metadata": {
        "id": "-ajQGiogW0-W"
      },
      "source": [
        "## 2. K-Vecinos\n",
        "\n",
        "El segundo modelo que vamos a utilizar corresponda a [K-Nearest Neighbors (KNN)](https://scikit-learn.org/stable/modules/generated/sklearn.neighbors.KNeighborsClassifier.html) también conocido como K-Vecinos o K-Vecinos más cercanos. Este modelo almacena los datos y establece distancias entre ellos, al presentarse un dato desconocido este lo asigna a la clase con la que su distancia sea menor, es bastante útil en tareas de clasificación como la que tenemos actualmente.\n",
        "\n",
        "---"
      ]
    },
    {
      "cell_type": "markdown",
      "metadata": {
        "id": "4i_OaPK9W-7y"
      },
      "source": [
        "### 2.1. Import"
      ]
    },
    {
      "cell_type": "markdown",
      "metadata": {
        "id": "wv1gXV0wXGBH"
      },
      "source": [
        "Se importa el modelo de SciKitLearn."
      ]
    },
    {
      "cell_type": "code",
      "execution_count": 16,
      "metadata": {
        "id": "MG0XSCiVThVJ"
      },
      "outputs": [],
      "source": [
        "from sklearn.neighbors import KNeighborsClassifier"
      ]
    },
    {
      "cell_type": "markdown",
      "metadata": {
        "id": "rIiYN4mwThVK"
      },
      "source": [
        "### 2.2. Métricas"
      ]
    },
    {
      "cell_type": "markdown",
      "metadata": {
        "id": "WoN5l6uCThVL"
      },
      "source": [
        "De manera similar al modelo anterior, KNN también posee hiperparámetros que debemos ajustar para tener el mejor rendimiento posible, estos son los siguientes:\n",
        "\n",
        "* n_neighbors: Define el valor de K, es decir, el número de vecinos cercanos que se tendrán en cuenta al clasificar un dato nuevo, es el hiperparámetro más importante de este modelo.\n",
        "* metric: Este define la forma en la que se entiende que tan cerca se encuentran dos puntos, es decir, como se va a medir la distancia entre puntos.\n",
        "* weights: Controla el peso o influencia que tienen los vecinos al momento de clasificar un punto nuevo, todos los vecinos pueden tener la misma influencia o darle mayor importancia a los más cercanos\n"
      ]
    },
    {
      "cell_type": "code",
      "execution_count": 17,
      "metadata": {
        "id": "4zJya-ftJ_sk"
      },
      "outputs": [],
      "source": [
        "#Se definen los rangos de valores a estimar\n",
        "param_grid_KNN = {\n",
        "    'n_neighbors': range(2, 11),\n",
        "    'weights': ['uniform', 'distance'],\n",
        "    'metric': ['euclidean']\n",
        "    }"
      ]
    },
    {
      "cell_type": "markdown",
      "source": [
        "Las métricas mencionadas en Regresión Logística también aplican en este modelo, por lo que no se volverán a definir de forma explícita, sin embargo cabe mencionar que la métrica en la que nos enfocaremos será la precisión o accuracy. De igual manera se repetirá el uso de la validación cruzada para mejorar la generalización del modelo"
      ],
      "metadata": {
        "id": "Eb4twBbQ0evn"
      }
    },
    {
      "cell_type": "code",
      "execution_count": 18,
      "metadata": {
        "id": "nQE2knonThVM",
        "colab": {
          "base_uri": "https://localhost:8080/"
        },
        "outputId": "41d5db42-aa89-4900-d4f3-17388ddfda89"
      },
      "outputs": [
        {
          "output_type": "stream",
          "name": "stdout",
          "text": [
            "Resultados obtenidos:\n",
            "Hiperparámetros encontrados: {'metric': 'euclidean', 'n_neighbors': 2, 'weights': 'distance'}\n",
            "\n",
            "Métricas del modelo:\n",
            "Accuracy: 94.48%\n"
          ]
        }
      ],
      "source": [
        "#Se usa GridSearchCV para los calculos de los hiperparámetros y de los scores\n",
        "grid_search_KNN = GridSearchCV(KNeighborsClassifier(), param_grid_KNN, cv = 5, scoring = 'accuracy')\n",
        "\n",
        "#Shhhh... Machine is Learning (again)\n",
        "grid_search_KNN.fit(X_train, y_train)\n",
        "\n",
        "#Resultados\n",
        "print(f\"Resultados obtenidos:\")\n",
        "print(f\"Hiperparámetros encontrados: {grid_search_KNN.best_params_}\\n\")\n",
        "\n",
        "print(f\"Métricas del modelo:\")\n",
        "print(f\"Accuracy: {grid_search_KNN.best_score_ * 100:.2f}%\")"
      ]
    },
    {
      "cell_type": "markdown",
      "metadata": {
        "id": "fjBagcHBetLz"
      },
      "source": [
        "### 2.3. Pruebas"
      ]
    },
    {
      "cell_type": "markdown",
      "metadata": {
        "id": "gWy_cdiPThVN"
      },
      "source": [
        "Se obtiene el mejor modelo y se utiliza el conjunto de datos de prueba para realizar predicciones con el fin observar su comportamiento."
      ]
    },
    {
      "cell_type": "code",
      "execution_count": 19,
      "metadata": {
        "id": "FaZwGOpAThVN"
      },
      "outputs": [],
      "source": [
        "#Se guarda el mejor modelo obtenido de GridSearchCV()\n",
        "modelKNN = grid_search_KNN.best_estimator_\n",
        "\n",
        "#Primeras predicciones del modelo:\n",
        "start_time_KNN = time.time()\n",
        "y_pred_KNN = modelKNN.predict(X_test)\n",
        "end_time_KNN = time.time()\n",
        "\n",
        "#Tiempo que toma realizar una predicción\n",
        "pred_time_KNN = end_time_KNN - start_time_KNN\n",
        "\n",
        "#Se calcula la precisión obtenida\n",
        "acc_pred_KNN = modelKNN.score(X_test, y_test)\n",
        "\n",
        "#Se calcula la matriz de confusión asociada\n",
        "conf_matrix_KNN = confusion_matrix(y_test, y_pred_KNN)"
      ]
    },
    {
      "cell_type": "markdown",
      "source": [
        "Resultados obtenidos de la predicción y la precisión de la misma:"
      ],
      "metadata": {
        "id": "AUCd2I9v261a"
      }
    },
    {
      "cell_type": "code",
      "source": [
        "print(f\"Predicciones: {y_pred_KNN}\\nValores Reales: {y_test}\\n\")\n",
        "print(f\"Precisión de la predicción: {acc_pred_KNN * 100:.2f}%\")"
      ],
      "metadata": {
        "colab": {
          "base_uri": "https://localhost:8080/"
        },
        "id": "uGW-mCzg3IT9",
        "outputId": "cc389c60-deb0-4263-e613-653be3f602a1"
      },
      "execution_count": 20,
      "outputs": [
        {
          "output_type": "stream",
          "name": "stdout",
          "text": [
            "Predicciones: [ 43  42  45  42  45  45 215  43  47 215  47  42  43 247  42 215  47  43\n",
            "  43  45  47  43  43 247  45  47  47  45  47  43  43  42  43  43  42  45\n",
            "  42 247  42 247  47  45  45  42 215 215  47 247  45  43  45 215 247  45\n",
            "  42  45  42  47  47  47  45  47  43]\n",
            "Valores Reales: [ 43  42  45  42  45  45 215  42  47 215  47  42  43 247  42 215  47  43\n",
            "  43  45  47  43  43 247  45 215  47  45  47  43  43  42  43  43  42  45\n",
            "  42 247  42 247 215  45  45  42 215 215  47 247  45  43  45 215 247  42\n",
            "  42 215  42  47  47  47  45  47  43]\n",
            "\n",
            "Precisión de la predicción: 92.06%\n"
          ]
        }
      ]
    },
    {
      "cell_type": "markdown",
      "metadata": {
        "id": "pSbi6OW4z42Z"
      },
      "source": [
        "### 2.4. Resultados generales"
      ]
    },
    {
      "cell_type": "markdown",
      "source": [
        "A continuación se muestra la matriz de confusión obtenida para este modelo, la interpretación de la misma es igual a la del modelo anterior. Con esta herramiento podremos observar a detalle el rendimiento del modelo en el conjunto de prueba."
      ],
      "metadata": {
        "id": "EsFYUhgV3imX"
      }
    },
    {
      "cell_type": "code",
      "execution_count": 21,
      "metadata": {
        "colab": {
          "base_uri": "https://localhost:8080/",
          "height": 0
        },
        "id": "v9PIrjFy0Leg",
        "outputId": "94f18e4d-9290-4910-88e4-f0f86be46123"
      },
      "outputs": [
        {
          "output_type": "display_data",
          "data": {
            "text/plain": [
              "<Figure size 900x900 with 2 Axes>"
            ],
            "image/png": "[encoded data removed]"
          },
          "metadata": {}
        }
      ],
      "source": [
        "plt.figure(figsize = (9, 9))\n",
        "\n",
        "sns.heatmap(\n",
        "    conf_matrix_KNN, annot = True,\n",
        "    fmt = 'd',\n",
        "    cmap = 'PuBuGn',\n",
        "    xticklabels = ['+', '-', '/', '÷', '*', '×'],\n",
        "    yticklabels = ['+', '-', '/', '÷', '*', '×']\n",
        "    )\n",
        "\n",
        "plt.title('Matriz de Confusión')\n",
        "plt.xlabel('Predicciones')\n",
        "plt.ylabel('Valores Reales')\n",
        "plt.show()"
      ]
    },
    {
      "cell_type": "markdown",
      "metadata": {
        "id": "bsxmD8XG0IMM"
      },
      "source": [
        "De igual forma, se toma una muestra aleatoria de 8 imágenes del conjunto de prueba y se muestran los valores de la predicción realizada por el modelo junto al valor real correspondiente a la imagen."
      ]
    },
    {
      "cell_type": "code",
      "execution_count": 22,
      "metadata": {
        "colab": {
          "base_uri": "https://localhost:8080/",
          "height": 0
        },
        "id": "P5U7xmTdThVs",
        "outputId": "04898550-06fa-4ce3-dda9-0a6fb5b97f44"
      },
      "outputs": [
        {
          "output_type": "display_data",
          "data": {
            "text/plain": [
              "<Figure size 2000x1000 with 8 Axes>"
            ],
            "image/png": "[encoded data removed]"
          },
          "metadata": {}
        }
      ],
      "source": [
        "samples = 8\n",
        "samples_index = np.random.choice(len(X_test), samples, replace = False)\n",
        "\n",
        "plt.figure(figsize=(20, 10))\n",
        "\n",
        "for i, index in enumerate(samples_index):\n",
        "    plt.subplot(1, samples, i + 1)\n",
        "    plt.imshow(X_test[index].reshape(28, 28), cmap = 'gray')\n",
        "    plt.title(f\"Predicción: {chr(y_pred_KNN[index])}\\nValor real: {chr(y_test[index])}\")\n",
        "    plt.axis('off')\n",
        "\n",
        "plt.tight_layout()\n",
        "plt.show()"
      ]
    },
    {
      "cell_type": "markdown",
      "metadata": {
        "id": "KB_cBCLDThVw"
      },
      "source": [
        "## 3. SVM\n",
        "\n",
        "El último modelo que usaremos en este notebook será [SVM](https://scikit-learn.org/stable/modules/svm.html) conocido como Máquinas de Vectores de Soporte o Máquinas de Soporte Vectorial. Este algoritmo se encarga de calcular el hiperplano que mejor separa los datos en las diferentes clases.\n",
        "\n",
        "---"
      ]
    },
    {
      "cell_type": "markdown",
      "metadata": {
        "id": "FDvLCnA4ThVu"
      },
      "source": [
        "### 3.1. Import"
      ]
    },
    {
      "cell_type": "markdown",
      "source": [
        "Dad que estamos en un problema de clasificación, debemos hacer uso de la clase [SVC](https://scikit-learn.org/stable/modules/generated/sklearn.svm.SVC.html) de SVM en SciKitLearn."
      ],
      "metadata": {
        "id": "3-JMZ_4x61Kx"
      }
    },
    {
      "cell_type": "code",
      "execution_count": 23,
      "metadata": {
        "id": "gTIRZe3i6Ugd"
      },
      "outputs": [],
      "source": [
        "from sklearn.svm import SVC"
      ]
    },
    {
      "cell_type": "markdown",
      "metadata": {
        "id": "jPZXE71w6dl3"
      },
      "source": [
        "### 3.2. Métricas"
      ]
    },
    {
      "cell_type": "markdown",
      "source": [
        "De forma similar a los 2 modelos anteriores, se tienen un conjunto de hiperparámetros que debemos ajustar para obtener el mejor rendimiento posible del modelo. En el caso de SVM, son los siguientes:\n",
        "\n",
        "* Kernel: Este define cómo se mapean los datos a un espacio de mayor dimensión donde sea posible encontrar un hiperplano lineal que separe las clases.\n",
        "* C: Este parámetro se encarga de la regularización, su valor determina si se le da prioridad a maximizar el margen o a la clasificación correcta de los puntos de entrenamiento.\n",
        "* gamma: Este parámetro solo aplica con kernels no lineales, controla el radio de influencia de cada punto."
      ],
      "metadata": {
        "id": "C3wr6ZU07QbX"
      }
    },
    {
      "cell_type": "code",
      "execution_count": 24,
      "metadata": {
        "id": "3pGjW8fS69ho"
      },
      "outputs": [],
      "source": [
        "#Se definen los rangos de valores a estimar\n",
        "param_grid_SVM = {\n",
        "    'C': [0.01, 0.1, 1, 10, 100],\n",
        "    'kernel': ['linear', 'poly', 'rbf', 'sigmoid'],\n",
        "    'gamma': ['scale', 'auto']\n",
        "}"
      ]
    },
    {
      "cell_type": "markdown",
      "source": [
        "Las métricas mencionadas en Regresión Logística y en KNN también aplican en este modelo, por lo que no se volverán a definir de forma explícita. En este caso se también vamos a enfocarnos en la precisión o accuracy.\n",
        "\n",
        "Al mismo tiempo, se usará validación cruzada para conseguir que el modelo generalice de forma correcta."
      ],
      "metadata": {
        "id": "nosNX7ykPEBX"
      }
    },
    {
      "cell_type": "code",
      "execution_count": 25,
      "metadata": {
        "id": "n_2DlXeNXvT6",
        "colab": {
          "base_uri": "https://localhost:8080/"
        },
        "outputId": "ea54835b-aa90-49ae-b8d2-afd9b1552b9d"
      },
      "outputs": [
        {
          "output_type": "stream",
          "name": "stdout",
          "text": [
            "Resultados obtenidos:\n",
            "Hiperparámetros encontrados: {'C': 10, 'gamma': 'scale', 'kernel': 'rbf'}\n",
            "\n",
            "Métricas del modelo:\n",
            "Accuracy: 95.37%\n"
          ]
        }
      ],
      "source": [
        "grid_search_SVM = GridSearchCV(SVC(), param_grid_SVM, cv = 5, scoring = 'accuracy')\n",
        "\n",
        "#Be quiet... Machine's Learnig over here\n",
        "grid_search_SVM.fit(X_train, y_train)\n",
        "\n",
        "#Resultados\n",
        "print(f\"Resultados obtenidos:\")\n",
        "print(f\"Hiperparámetros encontrados: {grid_search_SVM.best_params_}\\n\")\n",
        "\n",
        "print(f\"Métricas del modelo:\")\n",
        "print(f\"Accuracy: {grid_search_SVM.best_score_ * 100:.2f}%\")"
      ]
    },
    {
      "cell_type": "markdown",
      "metadata": {
        "id": "TxKXww_i697H"
      },
      "source": [
        "### 3.3. Pruebas"
      ]
    },
    {
      "cell_type": "markdown",
      "source": [
        "Se obtiene el mejor modelo y se utiliza el conjunto de datos de prueba para realizar predicciones con el fin observar su comportamiento."
      ],
      "metadata": {
        "id": "w-WAS20DQWzg"
      }
    },
    {
      "cell_type": "code",
      "execution_count": 26,
      "metadata": {
        "id": "Q-9QtD9L6pTo"
      },
      "outputs": [],
      "source": [
        "#Se hace uso del mejor modelo obtenido de GridSearchCV()\n",
        "modelSVM = grid_search_SVM.best_estimator_\n",
        "\n",
        "#Primeras predicciones del modelo:\n",
        "start_time_SVM = time.time()\n",
        "y_pred_SVM = modelSVM.predict(X_test)\n",
        "end_time_SVM = time.time()\n",
        "\n",
        "#Tiempo que toma realizar una predicción\n",
        "pred_time_SVM = end_time_SVM - start_time_SVM\n",
        "\n",
        "#Se calcula la precisión obtenida\n",
        "acc_pred_SVM = accuracy_score(y_test, y_pred_SVM)\n",
        "\n",
        "#Se calcula la matriz de confusión asociada\n",
        "conf_matrix_SVM = confusion_matrix(y_test, y_pred_SVM)"
      ]
    },
    {
      "cell_type": "markdown",
      "source": [
        "Resultados obtenidos de la predicción junto a la precisión de la misma:"
      ],
      "metadata": {
        "id": "cHxpivxzQX5g"
      }
    },
    {
      "cell_type": "code",
      "source": [
        "print(f\"Predicciones: {y_pred_SVM}\\nValores Reales: {y_test}\\n\")\n",
        "print(f\"Accuracy: {acc_pred_SVM * 100:.2f}%\")"
      ],
      "metadata": {
        "colab": {
          "base_uri": "https://localhost:8080/"
        },
        "id": "_YY9isvBdwgY",
        "outputId": "f0ef4f3e-89a0-4683-b3a0-85162851ffc3"
      },
      "execution_count": 27,
      "outputs": [
        {
          "output_type": "stream",
          "name": "stdout",
          "text": [
            "Predicciones: [ 43  42  45  42  45  45 215  42  47 215  47  42  43 247  42 215  47  43\n",
            "  43  45  47  43  43 247  45  47  47  45  47  43  43  42  43  43  42  45\n",
            "  42 247  42 247  47  45  45  42 215 215  47 247  45  43  45 215 247  42\n",
            "  42  47  42  47  47  47  45  47  43]\n",
            "Valores Reales: [ 43  42  45  42  45  45 215  42  47 215  47  42  43 247  42 215  47  43\n",
            "  43  45  47  43  43 247  45 215  47  45  47  43  43  42  43  43  42  45\n",
            "  42 247  42 247 215  45  45  42 215 215  47 247  45  43  45 215 247  42\n",
            "  42 215  42  47  47  47  45  47  43]\n",
            "\n",
            "Accuracy: 95.24%\n"
          ]
        }
      ]
    },
    {
      "cell_type": "markdown",
      "source": [
        "### 3.4. Resultados generales"
      ],
      "metadata": {
        "id": "d1JotXfhC1qZ"
      }
    },
    {
      "cell_type": "markdown",
      "source": [
        "Para SVM también nos resulta útil hacer uso de la matriz de confusión, ya que nos permite observar detalladamente el resultado de la predicción realizada y así comprender el comportamiento del modelo."
      ],
      "metadata": {
        "id": "XEZPyBuVQzD1"
      }
    },
    {
      "cell_type": "code",
      "source": [
        "plt.figure(figsize = (9, 9))\n",
        "\n",
        "sns.heatmap(\n",
        "    conf_matrix_SVM, annot = True,\n",
        "    fmt = 'd',\n",
        "    cmap = 'PuBuGn',\n",
        "    xticklabels = ['+', '-', '/', '÷', '*', '×'],\n",
        "    yticklabels = ['+', '-', '/', '÷', '*', '×']\n",
        "    )\n",
        "\n",
        "plt.title('Matriz de Confusión')\n",
        "plt.xlabel('Predicciones')\n",
        "plt.ylabel('Valores Reales')\n",
        "plt.show()"
      ],
      "metadata": {
        "colab": {
          "base_uri": "https://localhost:8080/",
          "height": 0
        },
        "id": "oaPl1hZvcrWd",
        "outputId": "497fbfba-b526-4e46-8099-e53e83cebf67"
      },
      "execution_count": 28,
      "outputs": [
        {
          "output_type": "display_data",
          "data": {
            "text/plain": [
              "<Figure size 900x900 with 2 Axes>"
            ],
            "image/png": "[encoded data removed]"
          },
          "metadata": {}
        }
      ]
    },
    {
      "cell_type": "markdown",
      "source": [
        "Por último, se toma una muesra aleatoria de 8 imágenes extraídas del conjunto de prueba, se muestran sus valores reales y la predicción realizada por el modelo."
      ],
      "metadata": {
        "id": "5ch7rn43RDoo"
      }
    },
    {
      "cell_type": "code",
      "source": [
        "samples = 8\n",
        "samples_index = np.random.choice(len(X_test), samples, replace = False)\n",
        "\n",
        "plt.figure(figsize=(20, 10))\n",
        "\n",
        "for i, index in enumerate(samples_index):\n",
        "    plt.subplot(1, samples, i + 1)\n",
        "    plt.imshow(X_test[index].reshape(28, 28), cmap = 'gray')\n",
        "    plt.title(f\"Predicción: {chr(y_pred_SVM[index])}\\nValor real: {chr(y_test[index])}\")\n",
        "    plt.axis('off')\n",
        "\n",
        "plt.tight_layout()\n",
        "plt.show()"
      ],
      "metadata": {
        "colab": {
          "base_uri": "https://localhost:8080/",
          "height": 0
        },
        "id": "aY5e5eJZcro8",
        "outputId": "e33bc019-f19f-403b-92d1-15d1fcc5d519"
      },
      "execution_count": 29,
      "outputs": [
        {
          "output_type": "display_data",
          "data": {
            "text/plain": [
              "<Figure size 2000x1000 with 8 Axes>"
            ],
            "image/png": "[encoded data removed]"
          },
          "metadata": {}
        }
      ]
    },
    {
      "cell_type": "markdown",
      "metadata": {
        "id": "ikvrmtFbdgxS"
      },
      "source": [
        "## Conclusiones\n",
        "\n",
        "Una vez finalizadas las pruebas con los modelos, se debe elegir uno de ellos para utilizarlo en la aplicación a desarrollar con StreamLit, en esta sección se realiza dicha elección y se justifica la misma.\n",
        "\n",
        "---"
      ]
    },
    {
      "cell_type": "markdown",
      "source": [
        "### Reportes"
      ],
      "metadata": {
        "id": "BMCqQbF__twD"
      }
    },
    {
      "cell_type": "markdown",
      "metadata": {
        "id": "d3PMVzVAdoyg"
      },
      "source": [
        "A continuación se hace una comparación de métricas entre los 3 modelos utilizados, para esto haremos uso de la herramienta [classification_report](https://scikit-learn.org/stable/modules/generated/sklearn.metrics.classification_report.html)."
      ]
    },
    {
      "cell_type": "code",
      "source": [
        "from sklearn.metrics import classification_report\n",
        "\n",
        "print(f\"Reporte de Regresión Logística:\\n{classification_report(y_test, y_pred_LR)}\\n\")\n",
        "print(f\"Reporte de K-Vecinos:\\n{classification_report(y_test, y_pred_KNN)}\\n\")\n",
        "print(f\"Reporte de SVM:\\n{classification_report(y_test, y_pred_SVM)}\\n\")"
      ],
      "metadata": {
        "colab": {
          "base_uri": "https://localhost:8080/"
        },
        "id": "YvjkLhCTxlR3",
        "outputId": "fc28bf0c-499a-4da9-d2a7-af765f15da19"
      },
      "execution_count": 30,
      "outputs": [
        {
          "output_type": "stream",
          "name": "stdout",
          "text": [
            "Reporte de Regresión Logística:\n",
            "              precision    recall  f1-score   support\n",
            "\n",
            "          42       1.00      0.92      0.96        13\n",
            "          43       1.00      1.00      1.00        12\n",
            "          45       0.85      0.92      0.88        12\n",
            "          47       0.79      1.00      0.88        11\n",
            "         215       1.00      0.67      0.80         9\n",
            "         247       1.00      1.00      1.00         6\n",
            "\n",
            "    accuracy                           0.92        63\n",
            "   macro avg       0.94      0.92      0.92        63\n",
            "weighted avg       0.93      0.92      0.92        63\n",
            "\n",
            "\n",
            "Reporte de K-Vecinos:\n",
            "              precision    recall  f1-score   support\n",
            "\n",
            "          42       1.00      0.85      0.92        13\n",
            "          43       0.92      1.00      0.96        12\n",
            "          45       0.86      1.00      0.92        12\n",
            "          47       0.85      1.00      0.92        11\n",
            "         215       1.00      0.67      0.80         9\n",
            "         247       1.00      1.00      1.00         6\n",
            "\n",
            "    accuracy                           0.92        63\n",
            "   macro avg       0.94      0.92      0.92        63\n",
            "weighted avg       0.93      0.92      0.92        63\n",
            "\n",
            "\n",
            "Reporte de SVM:\n",
            "              precision    recall  f1-score   support\n",
            "\n",
            "          42       1.00      1.00      1.00        13\n",
            "          43       1.00      1.00      1.00        12\n",
            "          45       1.00      1.00      1.00        12\n",
            "          47       0.79      1.00      0.88        11\n",
            "         215       1.00      0.67      0.80         9\n",
            "         247       1.00      1.00      1.00         6\n",
            "\n",
            "    accuracy                           0.95        63\n",
            "   macro avg       0.96      0.94      0.95        63\n",
            "weighted avg       0.96      0.95      0.95        63\n",
            "\n",
            "\n"
          ]
        }
      ]
    },
    {
      "cell_type": "markdown",
      "source": [
        "Podemos observar que, al igual que el reconocimiento de dígitos, el modelo con mejor rendimiento es SVM, seguido por KNN con una diferencia de apróximadamente 4%."
      ],
      "metadata": {
        "id": "F8i2hyi6yKz-"
      }
    },
    {
      "cell_type": "markdown",
      "source": [
        "### Tiempos de respuesta"
      ],
      "metadata": {
        "id": "w9HsNUM6AIoc"
      }
    },
    {
      "cell_type": "markdown",
      "source": [
        "De igual manera se proceden a comparar los tiempos de respuesta de cada modelo al momento de realizar una **única** predicción:"
      ],
      "metadata": {
        "id": "eAWXI2DfARO8"
      }
    },
    {
      "cell_type": "code",
      "source": [
        "#Regresión Logística\n",
        "start_time_uLR = time.time()\n",
        "y_pred_LR = modelLR.predict(X_test[0].reshape(1, -1))\n",
        "end_time_uLR = time.time()\n",
        "\n",
        "pred_time_uLR = end_time_uLR - start_time_uLR\n",
        "\n",
        "#KNN\n",
        "start_time_uKNN = time.time()\n",
        "y_pred_KNN = modelKNN.predict(X_test[0].reshape(1, -1))\n",
        "end_time_uKNN = time.time()\n",
        "\n",
        "pred_time_uKNN = end_time_uKNN - start_time_uKNN\n",
        "\n",
        "#SVM\n",
        "start_time_uSVM = time.time()\n",
        "y_pred_SVM = modelSVM.predict(X_test[0].reshape(1, -1))\n",
        "end_time_uSVM = time.time()\n",
        "\n",
        "pred_time_uSVM = end_time_uSVM - start_time_uSVM\n",
        "\n",
        "print(f\"Tiempo de predicción de Regresión Logística: {pred_time_uLR:.5f} segundos\")\n",
        "print(f\"Tiempo de predicción de K-NearestNeighbors: {pred_time_uKNN:.5f} segundos\")\n",
        "print(f\"Tiempo de predicción de SupportVectorMachine: {pred_time_uSVM:.5f} segundos\")"
      ],
      "metadata": {
        "colab": {
          "base_uri": "https://localhost:8080/"
        },
        "id": "csY0COu5yQrd",
        "outputId": "8cce2513-ec8c-42e3-8439-881a9adb2247"
      },
      "execution_count": 31,
      "outputs": [
        {
          "output_type": "stream",
          "name": "stdout",
          "text": [
            "Tiempo de predicción de Regresión Logística: 0.00222 segundos\n",
            "Tiempo de predicción de K-NearestNeighbors: 0.00308 segundos\n",
            "Tiempo de predicción de SupportVectorMachine: 0.00137 segundos\n"
          ]
        }
      ]
    },
    {
      "cell_type": "markdown",
      "source": [
        "Y se repite la comparación, esta vez con el tiempo que le toma a cada modelo realizar **múltiples** predicciones:"
      ],
      "metadata": {
        "id": "uiArNN0S9Uyy"
      }
    },
    {
      "cell_type": "code",
      "source": [
        "#Regresión Logística\n",
        "print(f\"Tiempo de predicción de Regresión Logística: {pred_time_LR * 8:.5f} segundos\")\n",
        "#KNN\n",
        "print(f\"Tiempo de predicción de K-NearestNeighbors: {pred_time_KNN * 8:.5f} segundos\")\n",
        "#SVM\n",
        "print(f\"Tiempo de predicción de SupportVectorMachine: {pred_time_SVM * 8:.5f} segundos\")"
      ],
      "metadata": {
        "colab": {
          "base_uri": "https://localhost:8080/"
        },
        "id": "kcV4QIwx9i_y",
        "outputId": "4e3f03ad-45f0-4a42-d16e-e06e32731d12"
      },
      "execution_count": 32,
      "outputs": [
        {
          "output_type": "stream",
          "name": "stdout",
          "text": [
            "Tiempo de predicción de Regresión Logística: 0.00676 segundos\n",
            "Tiempo de predicción de K-NearestNeighbors: 0.06453 segundos\n",
            "Tiempo de predicción de SupportVectorMachine: 0.18112 segundos\n"
          ]
        }
      ]
    },
    {
      "cell_type": "markdown",
      "source": [
        "Es por estos resultados y las experiencias obtenidas al momento de realizar el notebook que se llegó a la conclusión de que el modelo que se debe almacenar para ser usado en la aplicación de StreamLit es KNN, ya que su precisión es tan solo un 1% menor que SVM pero el tiempo de respuesta al momento de realizar múltiples predicciones es muchísimo menor, lo cual me parece de vital importancia de cara a la experiencia de usuario al momento de usar la aplicación."
      ],
      "metadata": {
        "id": "zeprJR0l_Iya"
      }
    },
    {
      "cell_type": "markdown",
      "source": [
        "## Almacenamiento del modelo\n",
        "\n",
        "En esta sección final se encuentra el código empleado para almacenar el modelo elegido en Google Drive.\n",
        "\n",
        "---"
      ],
      "metadata": {
        "id": "PNcWNhx9AVl6"
      }
    },
    {
      "cell_type": "markdown",
      "source": [
        "Primero se importa la librería [joblib](https://joblib.readthedocs.io/en/stable/) y se monta la unidad de Drive donde se va guardar el modelo."
      ],
      "metadata": {
        "id": "G4vanDlxBesD"
      }
    },
    {
      "cell_type": "code",
      "source": [
        "import joblib as jb\n",
        "from google.colab import drive\n",
        "drive.mount('/content/drive')"
      ],
      "metadata": {
        "colab": {
          "base_uri": "https://localhost:8080/"
        },
        "id": "Fr8vfUKx4xVy",
        "outputId": "b3f8acc4-a596-4c9a-cc9a-9e8921959274"
      },
      "execution_count": 34,
      "outputs": [
        {
          "output_type": "stream",
          "name": "stdout",
          "text": [
            "Mounted at /content/drive\n"
          ]
        }
      ]
    },
    {
      "cell_type": "markdown",
      "source": [
        "Por último, se define una ruta y se almacena allí el modelo."
      ],
      "metadata": {
        "id": "GPcDpB-mFvlm"
      }
    },
    {
      "cell_type": "code",
      "source": [
        "#Ruta para almacenar el modelo\n",
        "root = '/content/drive/MyDrive/ML/SVM_Operadores.joblib'\n",
        "\n",
        "jb.dump(modelKNN, root)\n",
        "\n",
        "print(f\"Modelo guardado en {root}\")"
      ],
      "metadata": {
        "colab": {
          "base_uri": "https://localhost:8080/"
        },
        "id": "RJAFW0O0Fw5d",
        "outputId": "017f6e82-b3b9-4dec-c676-9be6e76a18ff"
      },
      "execution_count": 35,
      "outputs": [
        {
          "output_type": "stream",
          "name": "stdout",
          "text": [
            "Modelo guardado en /content/drive/MyDrive/ML/SVM_Operadores.joblib\n"
          ]
        }
      ]
    }
  ],
  "metadata": {
    "colab": {
      "provenance": [],
      "gpuType": "V28",
      "include_colab_link": true
    },
    "kernelspec": {
      "display_name": "Python 3",
      "name": "python3"
    },
    "language_info": {
      "codemirror_mode": {
        "name": "ipython",
        "version": 3
      },
      "file_extension": ".py",
      "mimetype": "text/x-python",
      "name": "python",
      "nbconvert_exporter": "python",
      "pygments_lexer": "ipython3",
      "version": "3.11.7"
    },
    "accelerator": "TPU"
  },
  "nbformat": 4,
  "nbformat_minor": 0
}